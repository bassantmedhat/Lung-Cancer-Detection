{
  "cells": [
    {
      "cell_type": "markdown",
      "id": "74762db9",
      "metadata": {
        "papermill": {
          "duration": 0.024058,
          "end_time": "2023-01-22T17:33:58.937425",
          "exception": false,
          "start_time": "2023-01-22T17:33:58.913367",
          "status": "completed"
        },
        "tags": [],
        "id": "74762db9"
      },
      "source": [
        "<a id=\"2\"></a>\n",
        "<h1 style=\"background-color:red;font-family:newtimeroman;font-size:250%;text-align:center;border-radius: 10px 10px;\">Importing Libraries</h1>"
      ]
    },
    {
      "cell_type": "code",
      "execution_count": 231,
      "id": "effa0569",
      "metadata": {
        "_cell_guid": "b1076dfc-b9ad-4769-8c92-a6c4dae69d19",
        "_uuid": "8f2839f25d086af736a60e9eeb907d3b93b6e0e5",
        "execution": {
          "iopub.execute_input": "2023-01-22T17:33:58.987285Z",
          "iopub.status.busy": "2023-01-22T17:33:58.986291Z",
          "iopub.status.idle": "2023-01-22T17:34:02.335990Z",
          "shell.execute_reply": "2023-01-22T17:34:02.334993Z"
        },
        "papermill": {
          "duration": 3.378007,
          "end_time": "2023-01-22T17:34:02.338889",
          "exception": false,
          "start_time": "2023-01-22T17:33:58.960882",
          "status": "completed"
        },
        "tags": [],
        "id": "effa0569"
      },
      "outputs": [],
      "source": [
        "import numpy as np \n",
        "import pandas as pd\n",
        "\n",
        "import matplotlib.pyplot as plt\n",
        "import warnings\n",
        "warnings.filterwarnings('ignore')\n",
        "import plotly.figure_factory as ff\n",
        "import plotly.express as px\n",
        "from sklearn import preprocessing\n",
        "from sklearn.model_selection import train_test_split\n",
        "from sklearn.metrics import confusion_matrix, accuracy_score, classification_report\n",
        "import seaborn as sns"
      ]
    },
    {
      "cell_type": "markdown",
      "id": "ab7c4795",
      "metadata": {
        "papermill": {
          "duration": 0.02365,
          "end_time": "2023-01-22T17:34:02.387738",
          "exception": false,
          "start_time": "2023-01-22T17:34:02.364088",
          "status": "completed"
        },
        "tags": [],
        "id": "ab7c4795"
      },
      "source": [
        "<a id=\"3\"></a>\n",
        "<h1 style=\"background-color:red;font-family:newtimeroman;font-size:250%;text-align:center;border-radius: 10px 10px;\">Importing Dataset</h1> "
      ]
    },
    {
      "cell_type": "code",
      "source": [
        "from google.colab import files\n",
        "uploaded = files.upload()"
      ],
      "metadata": {
        "colab": {
          "base_uri": "https://localhost:8080/",
          "height": 73
        },
        "id": "8rP9ZkTxzIsj",
        "outputId": "b609aa6b-c55c-4a36-8011-c3fb1ee2adc1"
      },
      "id": "8rP9ZkTxzIsj",
      "execution_count": 232,
      "outputs": [
        {
          "output_type": "display_data",
          "data": {
            "text/plain": [
              "<IPython.core.display.HTML object>"
            ],
            "text/html": [
              "\n",
              "     <input type=\"file\" id=\"files-bc29a543-c81a-4085-a323-1de24a07c525\" name=\"files[]\" multiple disabled\n",
              "        style=\"border:none\" />\n",
              "     <output id=\"result-bc29a543-c81a-4085-a323-1de24a07c525\">\n",
              "      Upload widget is only available when the cell has been executed in the\n",
              "      current browser session. Please rerun this cell to enable.\n",
              "      </output>\n",
              "      <script>// Copyright 2017 Google LLC\n",
              "//\n",
              "// Licensed under the Apache License, Version 2.0 (the \"License\");\n",
              "// you may not use this file except in compliance with the License.\n",
              "// You may obtain a copy of the License at\n",
              "//\n",
              "//      http://www.apache.org/licenses/LICENSE-2.0\n",
              "//\n",
              "// Unless required by applicable law or agreed to in writing, software\n",
              "// distributed under the License is distributed on an \"AS IS\" BASIS,\n",
              "// WITHOUT WARRANTIES OR CONDITIONS OF ANY KIND, either express or implied.\n",
              "// See the License for the specific language governing permissions and\n",
              "// limitations under the License.\n",
              "\n",
              "/**\n",
              " * @fileoverview Helpers for google.colab Python module.\n",
              " */\n",
              "(function(scope) {\n",
              "function span(text, styleAttributes = {}) {\n",
              "  const element = document.createElement('span');\n",
              "  element.textContent = text;\n",
              "  for (const key of Object.keys(styleAttributes)) {\n",
              "    element.style[key] = styleAttributes[key];\n",
              "  }\n",
              "  return element;\n",
              "}\n",
              "\n",
              "// Max number of bytes which will be uploaded at a time.\n",
              "const MAX_PAYLOAD_SIZE = 100 * 1024;\n",
              "\n",
              "function _uploadFiles(inputId, outputId) {\n",
              "  const steps = uploadFilesStep(inputId, outputId);\n",
              "  const outputElement = document.getElementById(outputId);\n",
              "  // Cache steps on the outputElement to make it available for the next call\n",
              "  // to uploadFilesContinue from Python.\n",
              "  outputElement.steps = steps;\n",
              "\n",
              "  return _uploadFilesContinue(outputId);\n",
              "}\n",
              "\n",
              "// This is roughly an async generator (not supported in the browser yet),\n",
              "// where there are multiple asynchronous steps and the Python side is going\n",
              "// to poll for completion of each step.\n",
              "// This uses a Promise to block the python side on completion of each step,\n",
              "// then passes the result of the previous step as the input to the next step.\n",
              "function _uploadFilesContinue(outputId) {\n",
              "  const outputElement = document.getElementById(outputId);\n",
              "  const steps = outputElement.steps;\n",
              "\n",
              "  const next = steps.next(outputElement.lastPromiseValue);\n",
              "  return Promise.resolve(next.value.promise).then((value) => {\n",
              "    // Cache the last promise value to make it available to the next\n",
              "    // step of the generator.\n",
              "    outputElement.lastPromiseValue = value;\n",
              "    return next.value.response;\n",
              "  });\n",
              "}\n",
              "\n",
              "/**\n",
              " * Generator function which is called between each async step of the upload\n",
              " * process.\n",
              " * @param {string} inputId Element ID of the input file picker element.\n",
              " * @param {string} outputId Element ID of the output display.\n",
              " * @return {!Iterable<!Object>} Iterable of next steps.\n",
              " */\n",
              "function* uploadFilesStep(inputId, outputId) {\n",
              "  const inputElement = document.getElementById(inputId);\n",
              "  inputElement.disabled = false;\n",
              "\n",
              "  const outputElement = document.getElementById(outputId);\n",
              "  outputElement.innerHTML = '';\n",
              "\n",
              "  const pickedPromise = new Promise((resolve) => {\n",
              "    inputElement.addEventListener('change', (e) => {\n",
              "      resolve(e.target.files);\n",
              "    });\n",
              "  });\n",
              "\n",
              "  const cancel = document.createElement('button');\n",
              "  inputElement.parentElement.appendChild(cancel);\n",
              "  cancel.textContent = 'Cancel upload';\n",
              "  const cancelPromise = new Promise((resolve) => {\n",
              "    cancel.onclick = () => {\n",
              "      resolve(null);\n",
              "    };\n",
              "  });\n",
              "\n",
              "  // Wait for the user to pick the files.\n",
              "  const files = yield {\n",
              "    promise: Promise.race([pickedPromise, cancelPromise]),\n",
              "    response: {\n",
              "      action: 'starting',\n",
              "    }\n",
              "  };\n",
              "\n",
              "  cancel.remove();\n",
              "\n",
              "  // Disable the input element since further picks are not allowed.\n",
              "  inputElement.disabled = true;\n",
              "\n",
              "  if (!files) {\n",
              "    return {\n",
              "      response: {\n",
              "        action: 'complete',\n",
              "      }\n",
              "    };\n",
              "  }\n",
              "\n",
              "  for (const file of files) {\n",
              "    const li = document.createElement('li');\n",
              "    li.append(span(file.name, {fontWeight: 'bold'}));\n",
              "    li.append(span(\n",
              "        `(${file.type || 'n/a'}) - ${file.size} bytes, ` +\n",
              "        `last modified: ${\n",
              "            file.lastModifiedDate ? file.lastModifiedDate.toLocaleDateString() :\n",
              "                                    'n/a'} - `));\n",
              "    const percent = span('0% done');\n",
              "    li.appendChild(percent);\n",
              "\n",
              "    outputElement.appendChild(li);\n",
              "\n",
              "    const fileDataPromise = new Promise((resolve) => {\n",
              "      const reader = new FileReader();\n",
              "      reader.onload = (e) => {\n",
              "        resolve(e.target.result);\n",
              "      };\n",
              "      reader.readAsArrayBuffer(file);\n",
              "    });\n",
              "    // Wait for the data to be ready.\n",
              "    let fileData = yield {\n",
              "      promise: fileDataPromise,\n",
              "      response: {\n",
              "        action: 'continue',\n",
              "      }\n",
              "    };\n",
              "\n",
              "    // Use a chunked sending to avoid message size limits. See b/62115660.\n",
              "    let position = 0;\n",
              "    do {\n",
              "      const length = Math.min(fileData.byteLength - position, MAX_PAYLOAD_SIZE);\n",
              "      const chunk = new Uint8Array(fileData, position, length);\n",
              "      position += length;\n",
              "\n",
              "      const base64 = btoa(String.fromCharCode.apply(null, chunk));\n",
              "      yield {\n",
              "        response: {\n",
              "          action: 'append',\n",
              "          file: file.name,\n",
              "          data: base64,\n",
              "        },\n",
              "      };\n",
              "\n",
              "      let percentDone = fileData.byteLength === 0 ?\n",
              "          100 :\n",
              "          Math.round((position / fileData.byteLength) * 100);\n",
              "      percent.textContent = `${percentDone}% done`;\n",
              "\n",
              "    } while (position < fileData.byteLength);\n",
              "  }\n",
              "\n",
              "  // All done.\n",
              "  yield {\n",
              "    response: {\n",
              "      action: 'complete',\n",
              "    }\n",
              "  };\n",
              "}\n",
              "\n",
              "scope.google = scope.google || {};\n",
              "scope.google.colab = scope.google.colab || {};\n",
              "scope.google.colab._files = {\n",
              "  _uploadFiles,\n",
              "  _uploadFilesContinue,\n",
              "};\n",
              "})(self);\n",
              "</script> "
            ]
          },
          "metadata": {}
        },
        {
          "output_type": "stream",
          "name": "stdout",
          "text": [
            "Saving lungCancer.csv to lungCancer (4).csv\n"
          ]
        }
      ]
    },
    {
      "cell_type": "code",
      "execution_count": 233,
      "id": "ed78cd65",
      "metadata": {
        "execution": {
          "iopub.execute_input": "2023-01-22T17:34:02.438754Z",
          "iopub.status.busy": "2023-01-22T17:34:02.437998Z",
          "iopub.status.idle": "2023-01-22T17:34:02.455032Z",
          "shell.execute_reply": "2023-01-22T17:34:02.453970Z"
        },
        "papermill": {
          "duration": 0.045032,
          "end_time": "2023-01-22T17:34:02.457678",
          "exception": false,
          "start_time": "2023-01-22T17:34:02.412646",
          "status": "completed"
        },
        "tags": [],
        "id": "ed78cd65"
      },
      "outputs": [],
      "source": [
        "url = \"C:\\Lung-Cancer-Detection-main\\lungCancer.csv\"\n",
        "import io\n",
        "dataset = pd.read_csv(io.BytesIO(uploaded['lungCancer.csv']))\n",
        "# data = pd.read_csv(url)\n"
      ]
    },
    {
      "cell_type": "markdown",
      "id": "8d604420",
      "metadata": {
        "papermill": {
          "duration": 0.023572,
          "end_time": "2023-01-22T17:34:02.505166",
          "exception": false,
          "start_time": "2023-01-22T17:34:02.481594",
          "status": "completed"
        },
        "tags": [],
        "id": "8d604420"
      },
      "source": [
        "<a id=\"4\"></a>\n",
        "<h1 style=\"background-color:red;font-family:newtimeroman;font-size:250%;text-align:center;border-radius: 10px 10px;\">EDA</h1> "
      ]
    },
    {
      "cell_type": "markdown",
      "id": "8cd3046b",
      "metadata": {
        "papermill": {
          "duration": 0.023146,
          "end_time": "2023-01-22T17:34:02.551825",
          "exception": false,
          "start_time": "2023-01-22T17:34:02.528679",
          "status": "completed"
        },
        "tags": [],
        "id": "8cd3046b"
      },
      "source": [
        "# EDA"
      ]
    },
    {
      "cell_type": "markdown",
      "id": "b1203502",
      "metadata": {
        "papermill": {
          "duration": 0.023679,
          "end_time": "2023-01-22T17:34:02.600529",
          "exception": false,
          "start_time": "2023-01-22T17:34:02.576850",
          "status": "completed"
        },
        "tags": [],
        "id": "b1203502"
      },
      "source": [
        "Exploring data analysis"
      ]
    },
    {
      "cell_type": "code",
      "execution_count": 234,
      "id": "30ca9a64",
      "metadata": {
        "execution": {
          "iopub.execute_input": "2023-01-22T17:34:02.650100Z",
          "iopub.status.busy": "2023-01-22T17:34:02.649305Z",
          "iopub.status.idle": "2023-01-22T17:34:02.687805Z",
          "shell.execute_reply": "2023-01-22T17:34:02.686588Z"
        },
        "papermill": {
          "duration": 0.066206,
          "end_time": "2023-01-22T17:34:02.690455",
          "exception": false,
          "start_time": "2023-01-22T17:34:02.624249",
          "status": "completed"
        },
        "tags": [],
        "colab": {
          "base_uri": "https://localhost:8080/"
        },
        "id": "30ca9a64",
        "outputId": "81e9bbfe-1998-4e42-cac8-4acaa62c5817"
      },
      "outputs": [
        {
          "output_type": "stream",
          "name": "stdout",
          "text": [
            "<class 'pandas.core.frame.DataFrame'>\n",
            "RangeIndex: 309 entries, 0 to 308\n",
            "Data columns (total 16 columns):\n",
            " #   Column                 Non-Null Count  Dtype \n",
            "---  ------                 --------------  ----- \n",
            " 0   GENDER                 309 non-null    object\n",
            " 1   AGE                    309 non-null    int64 \n",
            " 2   SMOKING                309 non-null    int64 \n",
            " 3   YELLOW_FINGERS         309 non-null    int64 \n",
            " 4   ANXIETY                309 non-null    int64 \n",
            " 5   PEER_PRESSURE          309 non-null    int64 \n",
            " 6   CHRONIC DISEASE        309 non-null    int64 \n",
            " 7   FATIGUE                309 non-null    int64 \n",
            " 8   ALLERGY                309 non-null    int64 \n",
            " 9   WHEEZING               309 non-null    int64 \n",
            " 10  ALCOHOL CONSUMING      309 non-null    int64 \n",
            " 11  COUGHING               309 non-null    int64 \n",
            " 12  SHORTNESS OF BREATH    309 non-null    int64 \n",
            " 13  SWALLOWING DIFFICULTY  309 non-null    int64 \n",
            " 14  CHEST PAIN             309 non-null    int64 \n",
            " 15  LUNG_CANCER            309 non-null    object\n",
            "dtypes: int64(14), object(2)\n",
            "memory usage: 38.8+ KB\n"
          ]
        }
      ],
      "source": [
        "dataset.info()"
      ]
    },
    {
      "cell_type": "code",
      "execution_count": 235,
      "id": "fe444873",
      "metadata": {
        "execution": {
          "iopub.execute_input": "2023-01-22T17:34:02.739966Z",
          "iopub.status.busy": "2023-01-22T17:34:02.739264Z",
          "iopub.status.idle": "2023-01-22T17:34:02.761989Z",
          "shell.execute_reply": "2023-01-22T17:34:02.760568Z"
        },
        "papermill": {
          "duration": 0.050254,
          "end_time": "2023-01-22T17:34:02.764368",
          "exception": false,
          "start_time": "2023-01-22T17:34:02.714114",
          "status": "completed"
        },
        "tags": [],
        "colab": {
          "base_uri": "https://localhost:8080/",
          "height": 250
        },
        "id": "fe444873",
        "outputId": "82106818-1eb5-410f-c807-a6ad0d6c4449"
      },
      "outputs": [
        {
          "output_type": "execute_result",
          "data": {
            "text/plain": [
              "  GENDER  AGE  SMOKING  YELLOW_FINGERS  ANXIETY  PEER_PRESSURE  \\\n",
              "0      M   69        1               2        2              1   \n",
              "1      M   74        2               1        1              1   \n",
              "2      F   59        1               1        1              2   \n",
              "3      M   63        2               2        2              1   \n",
              "4      F   63        1               2        1              1   \n",
              "\n",
              "   CHRONIC DISEASE  FATIGUE   ALLERGY   WHEEZING  ALCOHOL CONSUMING  COUGHING  \\\n",
              "0                1         2         1         2                  2         2   \n",
              "1                2         2         2         1                  1         1   \n",
              "2                1         2         1         2                  1         2   \n",
              "3                1         1         1         1                  2         1   \n",
              "4                1         1         1         2                  1         2   \n",
              "\n",
              "   SHORTNESS OF BREATH  SWALLOWING DIFFICULTY  CHEST PAIN LUNG_CANCER  \n",
              "0                    2                      2           2         YES  \n",
              "1                    2                      2           2         YES  \n",
              "2                    2                      1           2          NO  \n",
              "3                    1                      2           2          NO  \n",
              "4                    2                      1           1          NO  "
            ],
            "text/html": [
              "\n",
              "  <div id=\"df-c7f6a7c2-5772-4cd5-9a88-73ca683317d1\">\n",
              "    <div class=\"colab-df-container\">\n",
              "      <div>\n",
              "<style scoped>\n",
              "    .dataframe tbody tr th:only-of-type {\n",
              "        vertical-align: middle;\n",
              "    }\n",
              "\n",
              "    .dataframe tbody tr th {\n",
              "        vertical-align: top;\n",
              "    }\n",
              "\n",
              "    .dataframe thead th {\n",
              "        text-align: right;\n",
              "    }\n",
              "</style>\n",
              "<table border=\"1\" class=\"dataframe\">\n",
              "  <thead>\n",
              "    <tr style=\"text-align: right;\">\n",
              "      <th></th>\n",
              "      <th>GENDER</th>\n",
              "      <th>AGE</th>\n",
              "      <th>SMOKING</th>\n",
              "      <th>YELLOW_FINGERS</th>\n",
              "      <th>ANXIETY</th>\n",
              "      <th>PEER_PRESSURE</th>\n",
              "      <th>CHRONIC DISEASE</th>\n",
              "      <th>FATIGUE</th>\n",
              "      <th>ALLERGY</th>\n",
              "      <th>WHEEZING</th>\n",
              "      <th>ALCOHOL CONSUMING</th>\n",
              "      <th>COUGHING</th>\n",
              "      <th>SHORTNESS OF BREATH</th>\n",
              "      <th>SWALLOWING DIFFICULTY</th>\n",
              "      <th>CHEST PAIN</th>\n",
              "      <th>LUNG_CANCER</th>\n",
              "    </tr>\n",
              "  </thead>\n",
              "  <tbody>\n",
              "    <tr>\n",
              "      <th>0</th>\n",
              "      <td>M</td>\n",
              "      <td>69</td>\n",
              "      <td>1</td>\n",
              "      <td>2</td>\n",
              "      <td>2</td>\n",
              "      <td>1</td>\n",
              "      <td>1</td>\n",
              "      <td>2</td>\n",
              "      <td>1</td>\n",
              "      <td>2</td>\n",
              "      <td>2</td>\n",
              "      <td>2</td>\n",
              "      <td>2</td>\n",
              "      <td>2</td>\n",
              "      <td>2</td>\n",
              "      <td>YES</td>\n",
              "    </tr>\n",
              "    <tr>\n",
              "      <th>1</th>\n",
              "      <td>M</td>\n",
              "      <td>74</td>\n",
              "      <td>2</td>\n",
              "      <td>1</td>\n",
              "      <td>1</td>\n",
              "      <td>1</td>\n",
              "      <td>2</td>\n",
              "      <td>2</td>\n",
              "      <td>2</td>\n",
              "      <td>1</td>\n",
              "      <td>1</td>\n",
              "      <td>1</td>\n",
              "      <td>2</td>\n",
              "      <td>2</td>\n",
              "      <td>2</td>\n",
              "      <td>YES</td>\n",
              "    </tr>\n",
              "    <tr>\n",
              "      <th>2</th>\n",
              "      <td>F</td>\n",
              "      <td>59</td>\n",
              "      <td>1</td>\n",
              "      <td>1</td>\n",
              "      <td>1</td>\n",
              "      <td>2</td>\n",
              "      <td>1</td>\n",
              "      <td>2</td>\n",
              "      <td>1</td>\n",
              "      <td>2</td>\n",
              "      <td>1</td>\n",
              "      <td>2</td>\n",
              "      <td>2</td>\n",
              "      <td>1</td>\n",
              "      <td>2</td>\n",
              "      <td>NO</td>\n",
              "    </tr>\n",
              "    <tr>\n",
              "      <th>3</th>\n",
              "      <td>M</td>\n",
              "      <td>63</td>\n",
              "      <td>2</td>\n",
              "      <td>2</td>\n",
              "      <td>2</td>\n",
              "      <td>1</td>\n",
              "      <td>1</td>\n",
              "      <td>1</td>\n",
              "      <td>1</td>\n",
              "      <td>1</td>\n",
              "      <td>2</td>\n",
              "      <td>1</td>\n",
              "      <td>1</td>\n",
              "      <td>2</td>\n",
              "      <td>2</td>\n",
              "      <td>NO</td>\n",
              "    </tr>\n",
              "    <tr>\n",
              "      <th>4</th>\n",
              "      <td>F</td>\n",
              "      <td>63</td>\n",
              "      <td>1</td>\n",
              "      <td>2</td>\n",
              "      <td>1</td>\n",
              "      <td>1</td>\n",
              "      <td>1</td>\n",
              "      <td>1</td>\n",
              "      <td>1</td>\n",
              "      <td>2</td>\n",
              "      <td>1</td>\n",
              "      <td>2</td>\n",
              "      <td>2</td>\n",
              "      <td>1</td>\n",
              "      <td>1</td>\n",
              "      <td>NO</td>\n",
              "    </tr>\n",
              "  </tbody>\n",
              "</table>\n",
              "</div>\n",
              "      <button class=\"colab-df-convert\" onclick=\"convertToInteractive('df-c7f6a7c2-5772-4cd5-9a88-73ca683317d1')\"\n",
              "              title=\"Convert this dataframe to an interactive table.\"\n",
              "              style=\"display:none;\">\n",
              "        \n",
              "  <svg xmlns=\"http://www.w3.org/2000/svg\" height=\"24px\"viewBox=\"0 0 24 24\"\n",
              "       width=\"24px\">\n",
              "    <path d=\"M0 0h24v24H0V0z\" fill=\"none\"/>\n",
              "    <path d=\"M18.56 5.44l.94 2.06.94-2.06 2.06-.94-2.06-.94-.94-2.06-.94 2.06-2.06.94zm-11 1L8.5 8.5l.94-2.06 2.06-.94-2.06-.94L8.5 2.5l-.94 2.06-2.06.94zm10 10l.94 2.06.94-2.06 2.06-.94-2.06-.94-.94-2.06-.94 2.06-2.06.94z\"/><path d=\"M17.41 7.96l-1.37-1.37c-.4-.4-.92-.59-1.43-.59-.52 0-1.04.2-1.43.59L10.3 9.45l-7.72 7.72c-.78.78-.78 2.05 0 2.83L4 21.41c.39.39.9.59 1.41.59.51 0 1.02-.2 1.41-.59l7.78-7.78 2.81-2.81c.8-.78.8-2.07 0-2.86zM5.41 20L4 18.59l7.72-7.72 1.47 1.35L5.41 20z\"/>\n",
              "  </svg>\n",
              "      </button>\n",
              "      \n",
              "  <style>\n",
              "    .colab-df-container {\n",
              "      display:flex;\n",
              "      flex-wrap:wrap;\n",
              "      gap: 12px;\n",
              "    }\n",
              "\n",
              "    .colab-df-convert {\n",
              "      background-color: #E8F0FE;\n",
              "      border: none;\n",
              "      border-radius: 50%;\n",
              "      cursor: pointer;\n",
              "      display: none;\n",
              "      fill: #1967D2;\n",
              "      height: 32px;\n",
              "      padding: 0 0 0 0;\n",
              "      width: 32px;\n",
              "    }\n",
              "\n",
              "    .colab-df-convert:hover {\n",
              "      background-color: #E2EBFA;\n",
              "      box-shadow: 0px 1px 2px rgba(60, 64, 67, 0.3), 0px 1px 3px 1px rgba(60, 64, 67, 0.15);\n",
              "      fill: #174EA6;\n",
              "    }\n",
              "\n",
              "    [theme=dark] .colab-df-convert {\n",
              "      background-color: #3B4455;\n",
              "      fill: #D2E3FC;\n",
              "    }\n",
              "\n",
              "    [theme=dark] .colab-df-convert:hover {\n",
              "      background-color: #434B5C;\n",
              "      box-shadow: 0px 1px 3px 1px rgba(0, 0, 0, 0.15);\n",
              "      filter: drop-shadow(0px 1px 2px rgba(0, 0, 0, 0.3));\n",
              "      fill: #FFFFFF;\n",
              "    }\n",
              "  </style>\n",
              "\n",
              "      <script>\n",
              "        const buttonEl =\n",
              "          document.querySelector('#df-c7f6a7c2-5772-4cd5-9a88-73ca683317d1 button.colab-df-convert');\n",
              "        buttonEl.style.display =\n",
              "          google.colab.kernel.accessAllowed ? 'block' : 'none';\n",
              "\n",
              "        async function convertToInteractive(key) {\n",
              "          const element = document.querySelector('#df-c7f6a7c2-5772-4cd5-9a88-73ca683317d1');\n",
              "          const dataTable =\n",
              "            await google.colab.kernel.invokeFunction('convertToInteractive',\n",
              "                                                     [key], {});\n",
              "          if (!dataTable) return;\n",
              "\n",
              "          const docLinkHtml = 'Like what you see? Visit the ' +\n",
              "            '<a target=\"_blank\" href=https://colab.research.google.com/notebooks/data_table.ipynb>data table notebook</a>'\n",
              "            + ' to learn more about interactive tables.';\n",
              "          element.innerHTML = '';\n",
              "          dataTable['output_type'] = 'display_data';\n",
              "          await google.colab.output.renderOutput(dataTable, element);\n",
              "          const docLink = document.createElement('div');\n",
              "          docLink.innerHTML = docLinkHtml;\n",
              "          element.appendChild(docLink);\n",
              "        }\n",
              "      </script>\n",
              "    </div>\n",
              "  </div>\n",
              "  "
            ]
          },
          "metadata": {},
          "execution_count": 235
        }
      ],
      "source": [
        "dataset.head()"
      ]
    },
    {
      "cell_type": "code",
      "execution_count": 236,
      "id": "24f36da8",
      "metadata": {
        "execution": {
          "iopub.execute_input": "2023-01-22T17:34:02.814583Z",
          "iopub.status.busy": "2023-01-22T17:34:02.813881Z",
          "iopub.status.idle": "2023-01-22T17:34:02.863842Z",
          "shell.execute_reply": "2023-01-22T17:34:02.862977Z"
        },
        "papermill": {
          "duration": 0.077593,
          "end_time": "2023-01-22T17:34:02.866102",
          "exception": false,
          "start_time": "2023-01-22T17:34:02.788509",
          "status": "completed"
        },
        "tags": [],
        "colab": {
          "base_uri": "https://localhost:8080/",
          "height": 361
        },
        "id": "24f36da8",
        "outputId": "033e8d74-e8ad-42db-c6ea-e6370c61f74f"
      },
      "outputs": [
        {
          "output_type": "execute_result",
          "data": {
            "text/plain": [
              "              AGE     SMOKING  YELLOW_FINGERS     ANXIETY  PEER_PRESSURE  \\\n",
              "count  309.000000  309.000000      309.000000  309.000000     309.000000   \n",
              "mean    62.673139    1.563107        1.569579    1.498382       1.501618   \n",
              "std      8.210301    0.496806        0.495938    0.500808       0.500808   \n",
              "min     21.000000    1.000000        1.000000    1.000000       1.000000   \n",
              "25%     57.000000    1.000000        1.000000    1.000000       1.000000   \n",
              "50%     62.000000    2.000000        2.000000    1.000000       2.000000   \n",
              "75%     69.000000    2.000000        2.000000    2.000000       2.000000   \n",
              "max     87.000000    2.000000        2.000000    2.000000       2.000000   \n",
              "\n",
              "       CHRONIC DISEASE    FATIGUE     ALLERGY     WHEEZING  ALCOHOL CONSUMING  \\\n",
              "count       309.000000  309.000000  309.000000  309.000000         309.000000   \n",
              "mean          1.504854    1.673139    1.556634    1.556634           1.556634   \n",
              "std           0.500787    0.469827    0.497588    0.497588           0.497588   \n",
              "min           1.000000    1.000000    1.000000    1.000000           1.000000   \n",
              "25%           1.000000    1.000000    1.000000    1.000000           1.000000   \n",
              "50%           2.000000    2.000000    2.000000    2.000000           2.000000   \n",
              "75%           2.000000    2.000000    2.000000    2.000000           2.000000   \n",
              "max           2.000000    2.000000    2.000000    2.000000           2.000000   \n",
              "\n",
              "         COUGHING  SHORTNESS OF BREATH  SWALLOWING DIFFICULTY  CHEST PAIN  \n",
              "count  309.000000           309.000000             309.000000  309.000000  \n",
              "mean     1.579288             1.640777               1.469256    1.556634  \n",
              "std      0.494474             0.480551               0.499863    0.497588  \n",
              "min      1.000000             1.000000               1.000000    1.000000  \n",
              "25%      1.000000             1.000000               1.000000    1.000000  \n",
              "50%      2.000000             2.000000               1.000000    2.000000  \n",
              "75%      2.000000             2.000000               2.000000    2.000000  \n",
              "max      2.000000             2.000000               2.000000    2.000000  "
            ],
            "text/html": [
              "\n",
              "  <div id=\"df-1d77e80c-7a1d-4eb3-9a78-3668d8753b95\">\n",
              "    <div class=\"colab-df-container\">\n",
              "      <div>\n",
              "<style scoped>\n",
              "    .dataframe tbody tr th:only-of-type {\n",
              "        vertical-align: middle;\n",
              "    }\n",
              "\n",
              "    .dataframe tbody tr th {\n",
              "        vertical-align: top;\n",
              "    }\n",
              "\n",
              "    .dataframe thead th {\n",
              "        text-align: right;\n",
              "    }\n",
              "</style>\n",
              "<table border=\"1\" class=\"dataframe\">\n",
              "  <thead>\n",
              "    <tr style=\"text-align: right;\">\n",
              "      <th></th>\n",
              "      <th>AGE</th>\n",
              "      <th>SMOKING</th>\n",
              "      <th>YELLOW_FINGERS</th>\n",
              "      <th>ANXIETY</th>\n",
              "      <th>PEER_PRESSURE</th>\n",
              "      <th>CHRONIC DISEASE</th>\n",
              "      <th>FATIGUE</th>\n",
              "      <th>ALLERGY</th>\n",
              "      <th>WHEEZING</th>\n",
              "      <th>ALCOHOL CONSUMING</th>\n",
              "      <th>COUGHING</th>\n",
              "      <th>SHORTNESS OF BREATH</th>\n",
              "      <th>SWALLOWING DIFFICULTY</th>\n",
              "      <th>CHEST PAIN</th>\n",
              "    </tr>\n",
              "  </thead>\n",
              "  <tbody>\n",
              "    <tr>\n",
              "      <th>count</th>\n",
              "      <td>309.000000</td>\n",
              "      <td>309.000000</td>\n",
              "      <td>309.000000</td>\n",
              "      <td>309.000000</td>\n",
              "      <td>309.000000</td>\n",
              "      <td>309.000000</td>\n",
              "      <td>309.000000</td>\n",
              "      <td>309.000000</td>\n",
              "      <td>309.000000</td>\n",
              "      <td>309.000000</td>\n",
              "      <td>309.000000</td>\n",
              "      <td>309.000000</td>\n",
              "      <td>309.000000</td>\n",
              "      <td>309.000000</td>\n",
              "    </tr>\n",
              "    <tr>\n",
              "      <th>mean</th>\n",
              "      <td>62.673139</td>\n",
              "      <td>1.563107</td>\n",
              "      <td>1.569579</td>\n",
              "      <td>1.498382</td>\n",
              "      <td>1.501618</td>\n",
              "      <td>1.504854</td>\n",
              "      <td>1.673139</td>\n",
              "      <td>1.556634</td>\n",
              "      <td>1.556634</td>\n",
              "      <td>1.556634</td>\n",
              "      <td>1.579288</td>\n",
              "      <td>1.640777</td>\n",
              "      <td>1.469256</td>\n",
              "      <td>1.556634</td>\n",
              "    </tr>\n",
              "    <tr>\n",
              "      <th>std</th>\n",
              "      <td>8.210301</td>\n",
              "      <td>0.496806</td>\n",
              "      <td>0.495938</td>\n",
              "      <td>0.500808</td>\n",
              "      <td>0.500808</td>\n",
              "      <td>0.500787</td>\n",
              "      <td>0.469827</td>\n",
              "      <td>0.497588</td>\n",
              "      <td>0.497588</td>\n",
              "      <td>0.497588</td>\n",
              "      <td>0.494474</td>\n",
              "      <td>0.480551</td>\n",
              "      <td>0.499863</td>\n",
              "      <td>0.497588</td>\n",
              "    </tr>\n",
              "    <tr>\n",
              "      <th>min</th>\n",
              "      <td>21.000000</td>\n",
              "      <td>1.000000</td>\n",
              "      <td>1.000000</td>\n",
              "      <td>1.000000</td>\n",
              "      <td>1.000000</td>\n",
              "      <td>1.000000</td>\n",
              "      <td>1.000000</td>\n",
              "      <td>1.000000</td>\n",
              "      <td>1.000000</td>\n",
              "      <td>1.000000</td>\n",
              "      <td>1.000000</td>\n",
              "      <td>1.000000</td>\n",
              "      <td>1.000000</td>\n",
              "      <td>1.000000</td>\n",
              "    </tr>\n",
              "    <tr>\n",
              "      <th>25%</th>\n",
              "      <td>57.000000</td>\n",
              "      <td>1.000000</td>\n",
              "      <td>1.000000</td>\n",
              "      <td>1.000000</td>\n",
              "      <td>1.000000</td>\n",
              "      <td>1.000000</td>\n",
              "      <td>1.000000</td>\n",
              "      <td>1.000000</td>\n",
              "      <td>1.000000</td>\n",
              "      <td>1.000000</td>\n",
              "      <td>1.000000</td>\n",
              "      <td>1.000000</td>\n",
              "      <td>1.000000</td>\n",
              "      <td>1.000000</td>\n",
              "    </tr>\n",
              "    <tr>\n",
              "      <th>50%</th>\n",
              "      <td>62.000000</td>\n",
              "      <td>2.000000</td>\n",
              "      <td>2.000000</td>\n",
              "      <td>1.000000</td>\n",
              "      <td>2.000000</td>\n",
              "      <td>2.000000</td>\n",
              "      <td>2.000000</td>\n",
              "      <td>2.000000</td>\n",
              "      <td>2.000000</td>\n",
              "      <td>2.000000</td>\n",
              "      <td>2.000000</td>\n",
              "      <td>2.000000</td>\n",
              "      <td>1.000000</td>\n",
              "      <td>2.000000</td>\n",
              "    </tr>\n",
              "    <tr>\n",
              "      <th>75%</th>\n",
              "      <td>69.000000</td>\n",
              "      <td>2.000000</td>\n",
              "      <td>2.000000</td>\n",
              "      <td>2.000000</td>\n",
              "      <td>2.000000</td>\n",
              "      <td>2.000000</td>\n",
              "      <td>2.000000</td>\n",
              "      <td>2.000000</td>\n",
              "      <td>2.000000</td>\n",
              "      <td>2.000000</td>\n",
              "      <td>2.000000</td>\n",
              "      <td>2.000000</td>\n",
              "      <td>2.000000</td>\n",
              "      <td>2.000000</td>\n",
              "    </tr>\n",
              "    <tr>\n",
              "      <th>max</th>\n",
              "      <td>87.000000</td>\n",
              "      <td>2.000000</td>\n",
              "      <td>2.000000</td>\n",
              "      <td>2.000000</td>\n",
              "      <td>2.000000</td>\n",
              "      <td>2.000000</td>\n",
              "      <td>2.000000</td>\n",
              "      <td>2.000000</td>\n",
              "      <td>2.000000</td>\n",
              "      <td>2.000000</td>\n",
              "      <td>2.000000</td>\n",
              "      <td>2.000000</td>\n",
              "      <td>2.000000</td>\n",
              "      <td>2.000000</td>\n",
              "    </tr>\n",
              "  </tbody>\n",
              "</table>\n",
              "</div>\n",
              "      <button class=\"colab-df-convert\" onclick=\"convertToInteractive('df-1d77e80c-7a1d-4eb3-9a78-3668d8753b95')\"\n",
              "              title=\"Convert this dataframe to an interactive table.\"\n",
              "              style=\"display:none;\">\n",
              "        \n",
              "  <svg xmlns=\"http://www.w3.org/2000/svg\" height=\"24px\"viewBox=\"0 0 24 24\"\n",
              "       width=\"24px\">\n",
              "    <path d=\"M0 0h24v24H0V0z\" fill=\"none\"/>\n",
              "    <path d=\"M18.56 5.44l.94 2.06.94-2.06 2.06-.94-2.06-.94-.94-2.06-.94 2.06-2.06.94zm-11 1L8.5 8.5l.94-2.06 2.06-.94-2.06-.94L8.5 2.5l-.94 2.06-2.06.94zm10 10l.94 2.06.94-2.06 2.06-.94-2.06-.94-.94-2.06-.94 2.06-2.06.94z\"/><path d=\"M17.41 7.96l-1.37-1.37c-.4-.4-.92-.59-1.43-.59-.52 0-1.04.2-1.43.59L10.3 9.45l-7.72 7.72c-.78.78-.78 2.05 0 2.83L4 21.41c.39.39.9.59 1.41.59.51 0 1.02-.2 1.41-.59l7.78-7.78 2.81-2.81c.8-.78.8-2.07 0-2.86zM5.41 20L4 18.59l7.72-7.72 1.47 1.35L5.41 20z\"/>\n",
              "  </svg>\n",
              "      </button>\n",
              "      \n",
              "  <style>\n",
              "    .colab-df-container {\n",
              "      display:flex;\n",
              "      flex-wrap:wrap;\n",
              "      gap: 12px;\n",
              "    }\n",
              "\n",
              "    .colab-df-convert {\n",
              "      background-color: #E8F0FE;\n",
              "      border: none;\n",
              "      border-radius: 50%;\n",
              "      cursor: pointer;\n",
              "      display: none;\n",
              "      fill: #1967D2;\n",
              "      height: 32px;\n",
              "      padding: 0 0 0 0;\n",
              "      width: 32px;\n",
              "    }\n",
              "\n",
              "    .colab-df-convert:hover {\n",
              "      background-color: #E2EBFA;\n",
              "      box-shadow: 0px 1px 2px rgba(60, 64, 67, 0.3), 0px 1px 3px 1px rgba(60, 64, 67, 0.15);\n",
              "      fill: #174EA6;\n",
              "    }\n",
              "\n",
              "    [theme=dark] .colab-df-convert {\n",
              "      background-color: #3B4455;\n",
              "      fill: #D2E3FC;\n",
              "    }\n",
              "\n",
              "    [theme=dark] .colab-df-convert:hover {\n",
              "      background-color: #434B5C;\n",
              "      box-shadow: 0px 1px 3px 1px rgba(0, 0, 0, 0.15);\n",
              "      filter: drop-shadow(0px 1px 2px rgba(0, 0, 0, 0.3));\n",
              "      fill: #FFFFFF;\n",
              "    }\n",
              "  </style>\n",
              "\n",
              "      <script>\n",
              "        const buttonEl =\n",
              "          document.querySelector('#df-1d77e80c-7a1d-4eb3-9a78-3668d8753b95 button.colab-df-convert');\n",
              "        buttonEl.style.display =\n",
              "          google.colab.kernel.accessAllowed ? 'block' : 'none';\n",
              "\n",
              "        async function convertToInteractive(key) {\n",
              "          const element = document.querySelector('#df-1d77e80c-7a1d-4eb3-9a78-3668d8753b95');\n",
              "          const dataTable =\n",
              "            await google.colab.kernel.invokeFunction('convertToInteractive',\n",
              "                                                     [key], {});\n",
              "          if (!dataTable) return;\n",
              "\n",
              "          const docLinkHtml = 'Like what you see? Visit the ' +\n",
              "            '<a target=\"_blank\" href=https://colab.research.google.com/notebooks/data_table.ipynb>data table notebook</a>'\n",
              "            + ' to learn more about interactive tables.';\n",
              "          element.innerHTML = '';\n",
              "          dataTable['output_type'] = 'display_data';\n",
              "          await google.colab.output.renderOutput(dataTable, element);\n",
              "          const docLink = document.createElement('div');\n",
              "          docLink.innerHTML = docLinkHtml;\n",
              "          element.appendChild(docLink);\n",
              "        }\n",
              "      </script>\n",
              "    </div>\n",
              "  </div>\n",
              "  "
            ]
          },
          "metadata": {},
          "execution_count": 236
        }
      ],
      "source": [
        "dataset.describe()"
      ]
    },
    {
      "cell_type": "code",
      "execution_count": 237,
      "id": "b19f629f",
      "metadata": {
        "execution": {
          "iopub.execute_input": "2023-01-22T17:34:02.916466Z",
          "iopub.status.busy": "2023-01-22T17:34:02.916057Z",
          "iopub.status.idle": "2023-01-22T17:34:02.924474Z",
          "shell.execute_reply": "2023-01-22T17:34:02.923657Z"
        },
        "papermill": {
          "duration": 0.035848,
          "end_time": "2023-01-22T17:34:02.926459",
          "exception": false,
          "start_time": "2023-01-22T17:34:02.890611",
          "status": "completed"
        },
        "tags": [],
        "colab": {
          "base_uri": "https://localhost:8080/"
        },
        "id": "b19f629f",
        "outputId": "c80c0d0a-f874-4842-87d5-ade7fb348a28"
      },
      "outputs": [
        {
          "output_type": "execute_result",
          "data": {
            "text/plain": [
              "GENDER                   0\n",
              "AGE                      0\n",
              "SMOKING                  0\n",
              "YELLOW_FINGERS           0\n",
              "ANXIETY                  0\n",
              "PEER_PRESSURE            0\n",
              "CHRONIC DISEASE          0\n",
              "FATIGUE                  0\n",
              "ALLERGY                  0\n",
              "WHEEZING                 0\n",
              "ALCOHOL CONSUMING        0\n",
              "COUGHING                 0\n",
              "SHORTNESS OF BREATH      0\n",
              "SWALLOWING DIFFICULTY    0\n",
              "CHEST PAIN               0\n",
              "LUNG_CANCER              0\n",
              "dtype: int64"
            ]
          },
          "metadata": {},
          "execution_count": 237
        }
      ],
      "source": [
        "dataset.isnull().sum()"
      ]
    },
    {
      "cell_type": "markdown",
      "id": "95afc9c1",
      "metadata": {
        "papermill": {
          "duration": 0.023859,
          "end_time": "2023-01-22T17:34:02.974978",
          "exception": false,
          "start_time": "2023-01-22T17:34:02.951119",
          "status": "completed"
        },
        "tags": [],
        "id": "95afc9c1"
      },
      "source": [
        "#There are no null values"
      ]
    },
    {
      "cell_type": "code",
      "execution_count": 238,
      "id": "ef05c16a",
      "metadata": {
        "execution": {
          "iopub.execute_input": "2023-01-22T17:34:03.025764Z",
          "iopub.status.busy": "2023-01-22T17:34:03.025078Z",
          "iopub.status.idle": "2023-01-22T17:34:03.031152Z",
          "shell.execute_reply": "2023-01-22T17:34:03.030360Z"
        },
        "papermill": {
          "duration": 0.033923,
          "end_time": "2023-01-22T17:34:03.033167",
          "exception": false,
          "start_time": "2023-01-22T17:34:02.999244",
          "status": "completed"
        },
        "tags": [],
        "colab": {
          "base_uri": "https://localhost:8080/"
        },
        "id": "ef05c16a",
        "outputId": "391abb67-fe3f-49cf-a5c6-aea887a7e1e2"
      },
      "outputs": [
        {
          "output_type": "execute_result",
          "data": {
            "text/plain": [
              "(309, 16)"
            ]
          },
          "metadata": {},
          "execution_count": 238
        }
      ],
      "source": [
        "dataset.shape"
      ]
    },
    {
      "cell_type": "code",
      "execution_count": 239,
      "id": "b63f4b37",
      "metadata": {
        "execution": {
          "iopub.execute_input": "2023-01-22T17:34:03.085290Z",
          "iopub.status.busy": "2023-01-22T17:34:03.084276Z",
          "iopub.status.idle": "2023-01-22T17:34:03.111072Z",
          "shell.execute_reply": "2023-01-22T17:34:03.109975Z"
        },
        "papermill": {
          "duration": 0.055304,
          "end_time": "2023-01-22T17:34:03.113246",
          "exception": false,
          "start_time": "2023-01-22T17:34:03.057942",
          "status": "completed"
        },
        "tags": [],
        "colab": {
          "base_uri": "https://localhost:8080/",
          "height": 584
        },
        "id": "b63f4b37",
        "outputId": "69df07dd-75fc-4fba-ee6f-0c5a689aa357"
      },
      "outputs": [
        {
          "output_type": "execute_result",
          "data": {
            "text/plain": [
              "                            AGE   SMOKING  YELLOW_FINGERS   ANXIETY  \\\n",
              "AGE                    1.000000 -0.084475        0.005205  0.053170   \n",
              "SMOKING               -0.084475  1.000000       -0.014585  0.160267   \n",
              "YELLOW_FINGERS         0.005205 -0.014585        1.000000  0.565829   \n",
              "ANXIETY                0.053170  0.160267        0.565829  1.000000   \n",
              "PEER_PRESSURE          0.018685 -0.042822        0.323083  0.216841   \n",
              "CHRONIC DISEASE       -0.012642 -0.141522        0.041122 -0.009678   \n",
              "FATIGUE                0.012614 -0.029575       -0.118058 -0.188538   \n",
              "ALLERGY                0.027990  0.001913       -0.144300 -0.165750   \n",
              "WHEEZING               0.055011 -0.129426       -0.078515 -0.191807   \n",
              "ALCOHOL CONSUMING      0.058985 -0.050623       -0.289025 -0.165750   \n",
              "COUGHING               0.169950 -0.129471       -0.012640 -0.225644   \n",
              "SHORTNESS OF BREATH   -0.017513  0.061264       -0.105944 -0.144077   \n",
              "SWALLOWING DIFFICULTY -0.001270  0.030718        0.345904  0.489403   \n",
              "CHEST PAIN            -0.018104  0.120117       -0.104829 -0.113634   \n",
              "\n",
              "                       PEER_PRESSURE  CHRONIC DISEASE  FATIGUE   ALLERGY   \\\n",
              "AGE                         0.018685        -0.012642  0.012614  0.027990   \n",
              "SMOKING                    -0.042822        -0.141522 -0.029575  0.001913   \n",
              "YELLOW_FINGERS              0.323083         0.041122 -0.118058 -0.144300   \n",
              "ANXIETY                     0.216841        -0.009678 -0.188538 -0.165750   \n",
              "PEER_PRESSURE               1.000000         0.048515  0.078148 -0.081800   \n",
              "CHRONIC DISEASE             0.048515         1.000000 -0.110529  0.106386   \n",
              "FATIGUE                     0.078148        -0.110529  1.000000  0.003056   \n",
              "ALLERGY                    -0.081800         0.106386  0.003056  1.000000   \n",
              "WHEEZING                   -0.068771        -0.049967  0.141937  0.173867   \n",
              "ALCOHOL CONSUMING          -0.159973         0.002150 -0.191377  0.344339   \n",
              "COUGHING                   -0.089019        -0.175287  0.146856  0.189524   \n",
              "SHORTNESS OF BREATH        -0.220175        -0.026459  0.441745 -0.030056   \n",
              "SWALLOWING DIFFICULTY       0.366590         0.075176 -0.132790 -0.061508   \n",
              "CHEST PAIN                 -0.094828        -0.036938 -0.010832  0.239433   \n",
              "\n",
              "                       WHEEZING  ALCOHOL CONSUMING  COUGHING  \\\n",
              "AGE                    0.055011           0.058985  0.169950   \n",
              "SMOKING               -0.129426          -0.050623 -0.129471   \n",
              "YELLOW_FINGERS        -0.078515          -0.289025 -0.012640   \n",
              "ANXIETY               -0.191807          -0.165750 -0.225644   \n",
              "PEER_PRESSURE         -0.068771          -0.159973 -0.089019   \n",
              "CHRONIC DISEASE       -0.049967           0.002150 -0.175287   \n",
              "FATIGUE                0.141937          -0.191377  0.146856   \n",
              "ALLERGY                0.173867           0.344339  0.189524   \n",
              "WHEEZING               1.000000           0.265659  0.374265   \n",
              "ALCOHOL CONSUMING      0.265659           1.000000  0.202720   \n",
              "COUGHING               0.374265           0.202720  1.000000   \n",
              "SHORTNESS OF BREATH    0.037834          -0.179416  0.277385   \n",
              "SWALLOWING DIFFICULTY  0.069027          -0.009294 -0.157586   \n",
              "CHEST PAIN             0.147640           0.331226  0.083958   \n",
              "\n",
              "                       SHORTNESS OF BREATH  SWALLOWING DIFFICULTY  CHEST PAIN  \n",
              "AGE                              -0.017513              -0.001270   -0.018104  \n",
              "SMOKING                           0.061264               0.030718    0.120117  \n",
              "YELLOW_FINGERS                   -0.105944               0.345904   -0.104829  \n",
              "ANXIETY                          -0.144077               0.489403   -0.113634  \n",
              "PEER_PRESSURE                    -0.220175               0.366590   -0.094828  \n",
              "CHRONIC DISEASE                  -0.026459               0.075176   -0.036938  \n",
              "FATIGUE                           0.441745              -0.132790   -0.010832  \n",
              "ALLERGY                          -0.030056              -0.061508    0.239433  \n",
              "WHEEZING                          0.037834               0.069027    0.147640  \n",
              "ALCOHOL CONSUMING                -0.179416              -0.009294    0.331226  \n",
              "COUGHING                          0.277385              -0.157586    0.083958  \n",
              "SHORTNESS OF BREATH               1.000000              -0.161015    0.024256  \n",
              "SWALLOWING DIFFICULTY            -0.161015               1.000000    0.069027  \n",
              "CHEST PAIN                        0.024256               0.069027    1.000000  "
            ],
            "text/html": [
              "\n",
              "  <div id=\"df-07fe5a39-b5c3-4ec6-9d3d-cc1b379ddb4f\">\n",
              "    <div class=\"colab-df-container\">\n",
              "      <div>\n",
              "<style scoped>\n",
              "    .dataframe tbody tr th:only-of-type {\n",
              "        vertical-align: middle;\n",
              "    }\n",
              "\n",
              "    .dataframe tbody tr th {\n",
              "        vertical-align: top;\n",
              "    }\n",
              "\n",
              "    .dataframe thead th {\n",
              "        text-align: right;\n",
              "    }\n",
              "</style>\n",
              "<table border=\"1\" class=\"dataframe\">\n",
              "  <thead>\n",
              "    <tr style=\"text-align: right;\">\n",
              "      <th></th>\n",
              "      <th>AGE</th>\n",
              "      <th>SMOKING</th>\n",
              "      <th>YELLOW_FINGERS</th>\n",
              "      <th>ANXIETY</th>\n",
              "      <th>PEER_PRESSURE</th>\n",
              "      <th>CHRONIC DISEASE</th>\n",
              "      <th>FATIGUE</th>\n",
              "      <th>ALLERGY</th>\n",
              "      <th>WHEEZING</th>\n",
              "      <th>ALCOHOL CONSUMING</th>\n",
              "      <th>COUGHING</th>\n",
              "      <th>SHORTNESS OF BREATH</th>\n",
              "      <th>SWALLOWING DIFFICULTY</th>\n",
              "      <th>CHEST PAIN</th>\n",
              "    </tr>\n",
              "  </thead>\n",
              "  <tbody>\n",
              "    <tr>\n",
              "      <th>AGE</th>\n",
              "      <td>1.000000</td>\n",
              "      <td>-0.084475</td>\n",
              "      <td>0.005205</td>\n",
              "      <td>0.053170</td>\n",
              "      <td>0.018685</td>\n",
              "      <td>-0.012642</td>\n",
              "      <td>0.012614</td>\n",
              "      <td>0.027990</td>\n",
              "      <td>0.055011</td>\n",
              "      <td>0.058985</td>\n",
              "      <td>0.169950</td>\n",
              "      <td>-0.017513</td>\n",
              "      <td>-0.001270</td>\n",
              "      <td>-0.018104</td>\n",
              "    </tr>\n",
              "    <tr>\n",
              "      <th>SMOKING</th>\n",
              "      <td>-0.084475</td>\n",
              "      <td>1.000000</td>\n",
              "      <td>-0.014585</td>\n",
              "      <td>0.160267</td>\n",
              "      <td>-0.042822</td>\n",
              "      <td>-0.141522</td>\n",
              "      <td>-0.029575</td>\n",
              "      <td>0.001913</td>\n",
              "      <td>-0.129426</td>\n",
              "      <td>-0.050623</td>\n",
              "      <td>-0.129471</td>\n",
              "      <td>0.061264</td>\n",
              "      <td>0.030718</td>\n",
              "      <td>0.120117</td>\n",
              "    </tr>\n",
              "    <tr>\n",
              "      <th>YELLOW_FINGERS</th>\n",
              "      <td>0.005205</td>\n",
              "      <td>-0.014585</td>\n",
              "      <td>1.000000</td>\n",
              "      <td>0.565829</td>\n",
              "      <td>0.323083</td>\n",
              "      <td>0.041122</td>\n",
              "      <td>-0.118058</td>\n",
              "      <td>-0.144300</td>\n",
              "      <td>-0.078515</td>\n",
              "      <td>-0.289025</td>\n",
              "      <td>-0.012640</td>\n",
              "      <td>-0.105944</td>\n",
              "      <td>0.345904</td>\n",
              "      <td>-0.104829</td>\n",
              "    </tr>\n",
              "    <tr>\n",
              "      <th>ANXIETY</th>\n",
              "      <td>0.053170</td>\n",
              "      <td>0.160267</td>\n",
              "      <td>0.565829</td>\n",
              "      <td>1.000000</td>\n",
              "      <td>0.216841</td>\n",
              "      <td>-0.009678</td>\n",
              "      <td>-0.188538</td>\n",
              "      <td>-0.165750</td>\n",
              "      <td>-0.191807</td>\n",
              "      <td>-0.165750</td>\n",
              "      <td>-0.225644</td>\n",
              "      <td>-0.144077</td>\n",
              "      <td>0.489403</td>\n",
              "      <td>-0.113634</td>\n",
              "    </tr>\n",
              "    <tr>\n",
              "      <th>PEER_PRESSURE</th>\n",
              "      <td>0.018685</td>\n",
              "      <td>-0.042822</td>\n",
              "      <td>0.323083</td>\n",
              "      <td>0.216841</td>\n",
              "      <td>1.000000</td>\n",
              "      <td>0.048515</td>\n",
              "      <td>0.078148</td>\n",
              "      <td>-0.081800</td>\n",
              "      <td>-0.068771</td>\n",
              "      <td>-0.159973</td>\n",
              "      <td>-0.089019</td>\n",
              "      <td>-0.220175</td>\n",
              "      <td>0.366590</td>\n",
              "      <td>-0.094828</td>\n",
              "    </tr>\n",
              "    <tr>\n",
              "      <th>CHRONIC DISEASE</th>\n",
              "      <td>-0.012642</td>\n",
              "      <td>-0.141522</td>\n",
              "      <td>0.041122</td>\n",
              "      <td>-0.009678</td>\n",
              "      <td>0.048515</td>\n",
              "      <td>1.000000</td>\n",
              "      <td>-0.110529</td>\n",
              "      <td>0.106386</td>\n",
              "      <td>-0.049967</td>\n",
              "      <td>0.002150</td>\n",
              "      <td>-0.175287</td>\n",
              "      <td>-0.026459</td>\n",
              "      <td>0.075176</td>\n",
              "      <td>-0.036938</td>\n",
              "    </tr>\n",
              "    <tr>\n",
              "      <th>FATIGUE</th>\n",
              "      <td>0.012614</td>\n",
              "      <td>-0.029575</td>\n",
              "      <td>-0.118058</td>\n",
              "      <td>-0.188538</td>\n",
              "      <td>0.078148</td>\n",
              "      <td>-0.110529</td>\n",
              "      <td>1.000000</td>\n",
              "      <td>0.003056</td>\n",
              "      <td>0.141937</td>\n",
              "      <td>-0.191377</td>\n",
              "      <td>0.146856</td>\n",
              "      <td>0.441745</td>\n",
              "      <td>-0.132790</td>\n",
              "      <td>-0.010832</td>\n",
              "    </tr>\n",
              "    <tr>\n",
              "      <th>ALLERGY</th>\n",
              "      <td>0.027990</td>\n",
              "      <td>0.001913</td>\n",
              "      <td>-0.144300</td>\n",
              "      <td>-0.165750</td>\n",
              "      <td>-0.081800</td>\n",
              "      <td>0.106386</td>\n",
              "      <td>0.003056</td>\n",
              "      <td>1.000000</td>\n",
              "      <td>0.173867</td>\n",
              "      <td>0.344339</td>\n",
              "      <td>0.189524</td>\n",
              "      <td>-0.030056</td>\n",
              "      <td>-0.061508</td>\n",
              "      <td>0.239433</td>\n",
              "    </tr>\n",
              "    <tr>\n",
              "      <th>WHEEZING</th>\n",
              "      <td>0.055011</td>\n",
              "      <td>-0.129426</td>\n",
              "      <td>-0.078515</td>\n",
              "      <td>-0.191807</td>\n",
              "      <td>-0.068771</td>\n",
              "      <td>-0.049967</td>\n",
              "      <td>0.141937</td>\n",
              "      <td>0.173867</td>\n",
              "      <td>1.000000</td>\n",
              "      <td>0.265659</td>\n",
              "      <td>0.374265</td>\n",
              "      <td>0.037834</td>\n",
              "      <td>0.069027</td>\n",
              "      <td>0.147640</td>\n",
              "    </tr>\n",
              "    <tr>\n",
              "      <th>ALCOHOL CONSUMING</th>\n",
              "      <td>0.058985</td>\n",
              "      <td>-0.050623</td>\n",
              "      <td>-0.289025</td>\n",
              "      <td>-0.165750</td>\n",
              "      <td>-0.159973</td>\n",
              "      <td>0.002150</td>\n",
              "      <td>-0.191377</td>\n",
              "      <td>0.344339</td>\n",
              "      <td>0.265659</td>\n",
              "      <td>1.000000</td>\n",
              "      <td>0.202720</td>\n",
              "      <td>-0.179416</td>\n",
              "      <td>-0.009294</td>\n",
              "      <td>0.331226</td>\n",
              "    </tr>\n",
              "    <tr>\n",
              "      <th>COUGHING</th>\n",
              "      <td>0.169950</td>\n",
              "      <td>-0.129471</td>\n",
              "      <td>-0.012640</td>\n",
              "      <td>-0.225644</td>\n",
              "      <td>-0.089019</td>\n",
              "      <td>-0.175287</td>\n",
              "      <td>0.146856</td>\n",
              "      <td>0.189524</td>\n",
              "      <td>0.374265</td>\n",
              "      <td>0.202720</td>\n",
              "      <td>1.000000</td>\n",
              "      <td>0.277385</td>\n",
              "      <td>-0.157586</td>\n",
              "      <td>0.083958</td>\n",
              "    </tr>\n",
              "    <tr>\n",
              "      <th>SHORTNESS OF BREATH</th>\n",
              "      <td>-0.017513</td>\n",
              "      <td>0.061264</td>\n",
              "      <td>-0.105944</td>\n",
              "      <td>-0.144077</td>\n",
              "      <td>-0.220175</td>\n",
              "      <td>-0.026459</td>\n",
              "      <td>0.441745</td>\n",
              "      <td>-0.030056</td>\n",
              "      <td>0.037834</td>\n",
              "      <td>-0.179416</td>\n",
              "      <td>0.277385</td>\n",
              "      <td>1.000000</td>\n",
              "      <td>-0.161015</td>\n",
              "      <td>0.024256</td>\n",
              "    </tr>\n",
              "    <tr>\n",
              "      <th>SWALLOWING DIFFICULTY</th>\n",
              "      <td>-0.001270</td>\n",
              "      <td>0.030718</td>\n",
              "      <td>0.345904</td>\n",
              "      <td>0.489403</td>\n",
              "      <td>0.366590</td>\n",
              "      <td>0.075176</td>\n",
              "      <td>-0.132790</td>\n",
              "      <td>-0.061508</td>\n",
              "      <td>0.069027</td>\n",
              "      <td>-0.009294</td>\n",
              "      <td>-0.157586</td>\n",
              "      <td>-0.161015</td>\n",
              "      <td>1.000000</td>\n",
              "      <td>0.069027</td>\n",
              "    </tr>\n",
              "    <tr>\n",
              "      <th>CHEST PAIN</th>\n",
              "      <td>-0.018104</td>\n",
              "      <td>0.120117</td>\n",
              "      <td>-0.104829</td>\n",
              "      <td>-0.113634</td>\n",
              "      <td>-0.094828</td>\n",
              "      <td>-0.036938</td>\n",
              "      <td>-0.010832</td>\n",
              "      <td>0.239433</td>\n",
              "      <td>0.147640</td>\n",
              "      <td>0.331226</td>\n",
              "      <td>0.083958</td>\n",
              "      <td>0.024256</td>\n",
              "      <td>0.069027</td>\n",
              "      <td>1.000000</td>\n",
              "    </tr>\n",
              "  </tbody>\n",
              "</table>\n",
              "</div>\n",
              "      <button class=\"colab-df-convert\" onclick=\"convertToInteractive('df-07fe5a39-b5c3-4ec6-9d3d-cc1b379ddb4f')\"\n",
              "              title=\"Convert this dataframe to an interactive table.\"\n",
              "              style=\"display:none;\">\n",
              "        \n",
              "  <svg xmlns=\"http://www.w3.org/2000/svg\" height=\"24px\"viewBox=\"0 0 24 24\"\n",
              "       width=\"24px\">\n",
              "    <path d=\"M0 0h24v24H0V0z\" fill=\"none\"/>\n",
              "    <path d=\"M18.56 5.44l.94 2.06.94-2.06 2.06-.94-2.06-.94-.94-2.06-.94 2.06-2.06.94zm-11 1L8.5 8.5l.94-2.06 2.06-.94-2.06-.94L8.5 2.5l-.94 2.06-2.06.94zm10 10l.94 2.06.94-2.06 2.06-.94-2.06-.94-.94-2.06-.94 2.06-2.06.94z\"/><path d=\"M17.41 7.96l-1.37-1.37c-.4-.4-.92-.59-1.43-.59-.52 0-1.04.2-1.43.59L10.3 9.45l-7.72 7.72c-.78.78-.78 2.05 0 2.83L4 21.41c.39.39.9.59 1.41.59.51 0 1.02-.2 1.41-.59l7.78-7.78 2.81-2.81c.8-.78.8-2.07 0-2.86zM5.41 20L4 18.59l7.72-7.72 1.47 1.35L5.41 20z\"/>\n",
              "  </svg>\n",
              "      </button>\n",
              "      \n",
              "  <style>\n",
              "    .colab-df-container {\n",
              "      display:flex;\n",
              "      flex-wrap:wrap;\n",
              "      gap: 12px;\n",
              "    }\n",
              "\n",
              "    .colab-df-convert {\n",
              "      background-color: #E8F0FE;\n",
              "      border: none;\n",
              "      border-radius: 50%;\n",
              "      cursor: pointer;\n",
              "      display: none;\n",
              "      fill: #1967D2;\n",
              "      height: 32px;\n",
              "      padding: 0 0 0 0;\n",
              "      width: 32px;\n",
              "    }\n",
              "\n",
              "    .colab-df-convert:hover {\n",
              "      background-color: #E2EBFA;\n",
              "      box-shadow: 0px 1px 2px rgba(60, 64, 67, 0.3), 0px 1px 3px 1px rgba(60, 64, 67, 0.15);\n",
              "      fill: #174EA6;\n",
              "    }\n",
              "\n",
              "    [theme=dark] .colab-df-convert {\n",
              "      background-color: #3B4455;\n",
              "      fill: #D2E3FC;\n",
              "    }\n",
              "\n",
              "    [theme=dark] .colab-df-convert:hover {\n",
              "      background-color: #434B5C;\n",
              "      box-shadow: 0px 1px 3px 1px rgba(0, 0, 0, 0.15);\n",
              "      filter: drop-shadow(0px 1px 2px rgba(0, 0, 0, 0.3));\n",
              "      fill: #FFFFFF;\n",
              "    }\n",
              "  </style>\n",
              "\n",
              "      <script>\n",
              "        const buttonEl =\n",
              "          document.querySelector('#df-07fe5a39-b5c3-4ec6-9d3d-cc1b379ddb4f button.colab-df-convert');\n",
              "        buttonEl.style.display =\n",
              "          google.colab.kernel.accessAllowed ? 'block' : 'none';\n",
              "\n",
              "        async function convertToInteractive(key) {\n",
              "          const element = document.querySelector('#df-07fe5a39-b5c3-4ec6-9d3d-cc1b379ddb4f');\n",
              "          const dataTable =\n",
              "            await google.colab.kernel.invokeFunction('convertToInteractive',\n",
              "                                                     [key], {});\n",
              "          if (!dataTable) return;\n",
              "\n",
              "          const docLinkHtml = 'Like what you see? Visit the ' +\n",
              "            '<a target=\"_blank\" href=https://colab.research.google.com/notebooks/data_table.ipynb>data table notebook</a>'\n",
              "            + ' to learn more about interactive tables.';\n",
              "          element.innerHTML = '';\n",
              "          dataTable['output_type'] = 'display_data';\n",
              "          await google.colab.output.renderOutput(dataTable, element);\n",
              "          const docLink = document.createElement('div');\n",
              "          docLink.innerHTML = docLinkHtml;\n",
              "          element.appendChild(docLink);\n",
              "        }\n",
              "      </script>\n",
              "    </div>\n",
              "  </div>\n",
              "  "
            ]
          },
          "metadata": {},
          "execution_count": 239
        }
      ],
      "source": [
        "dataset.corr()"
      ]
    },
    {
      "cell_type": "markdown",
      "id": "de5f433a",
      "metadata": {
        "papermill": {
          "duration": 0.024298,
          "end_time": "2023-01-22T17:34:03.162477",
          "exception": false,
          "start_time": "2023-01-22T17:34:03.138179",
          "status": "completed"
        },
        "tags": [],
        "id": "de5f433a"
      },
      "source": [
        "<a id=\"5\"></a>\n",
        "<h1 style=\"background-color:red;font-family:newtimeroman;font-size:250%;text-align:center;border-radius: 10px 10px;\">Data Visualization</h1>  "
      ]
    },
    {
      "cell_type": "code",
      "execution_count": 240,
      "id": "faac9f50",
      "metadata": {
        "execution": {
          "iopub.execute_input": "2023-01-22T17:34:03.213792Z",
          "iopub.status.busy": "2023-01-22T17:34:03.213373Z",
          "iopub.status.idle": "2023-01-22T17:34:03.349616Z",
          "shell.execute_reply": "2023-01-22T17:34:03.348620Z"
        },
        "papermill": {
          "duration": 0.165017,
          "end_time": "2023-01-22T17:34:03.352145",
          "exception": false,
          "start_time": "2023-01-22T17:34:03.187128",
          "status": "completed"
        },
        "tags": [],
        "colab": {
          "base_uri": "https://localhost:8080/",
          "height": 560
        },
        "id": "faac9f50",
        "outputId": "4e24381a-0e01-4ad8-c8b0-f864137dd0c8"
      },
      "outputs": [
        {
          "output_type": "display_data",
          "data": {
            "text/html": [
              "<html>\n",
              "<head><meta charset=\"utf-8\" /></head>\n",
              "<body>\n",
              "    <div>            <script src=\"https://cdnjs.cloudflare.com/ajax/libs/mathjax/2.7.5/MathJax.js?config=TeX-AMS-MML_SVG\"></script><script type=\"text/javascript\">if (window.MathJax && window.MathJax.Hub && window.MathJax.Hub.Config) {window.MathJax.Hub.Config({SVG: {font: \"STIX-Web\"}});}</script>                <script type=\"text/javascript\">window.PlotlyConfig = {MathJaxConfig: 'local'};</script>\n",
              "        <script src=\"https://cdn.plot.ly/plotly-2.18.2.min.js\"></script>                <div id=\"ab899552-2d90-4f42-a990-f2fbb4308a0c\" class=\"plotly-graph-div\" style=\"height:525px; width:100%;\"></div>            <script type=\"text/javascript\">                                    window.PLOTLYENV=window.PLOTLYENV || {};                                    if (document.getElementById(\"ab899552-2d90-4f42-a990-f2fbb4308a0c\")) {                    Plotly.newPlot(                        \"ab899552-2d90-4f42-a990-f2fbb4308a0c\",                        [{\"autobinx\":false,\"histnorm\":\"probability density\",\"legendgroup\":\"AGE\",\"marker\":{\"color\":\"rgb(31, 119, 180)\"},\"name\":\"AGE\",\"opacity\":0.7,\"x\":[69,74,59,63,63,75,52,51,68,53,61,72,60,58,69,48,75,57,68,61,44,64,21,60,72,65,61,69,53,55,57,62,56,67,59,59,60,56,56,60,68,63,77,52,70,72,62,64,70,60,56,63,54,49,57,52,63,73,47,69,70,60,70,68,74,71,56,66,76,78,68,66,67,60,61,58,76,56,67,73,58,54,62,81,56,60,66,62,62,55,62,71,52,59,48,60,61,59,64,56,58,81,64,62,72,60,61,60,49,53,58,61,68,60,72,72,57,51,54,56,77,64,57,66,70,53,51,58,58,63,51,61,61,76,71,69,56,67,54,63,47,62,65,63,64,65,51,56,70,58,67,62,74,69,64,75,47,57,56,68,55,62,73,68,75,63,61,62,44,56,54,57,56,69,72,59,70,64,61,72,63,74,71,71,72,77,72,55,65,67,69,55,51,64,63,69,64,59,73,55,63,60,74,65,79,62,71,63,67,55,54,77,58,64,61,62,67,56,70,70,57,61,77,63,62,59,70,71,56,57,78,64,62,49,77,64,63,54,38,75,70,59,77,61,64,59,71,67,64,68,69,64,59,67,74,77,60,64,70,58,59,39,67,71,70,60,55,60,55,55,70,63,64,59,56,64,62,87,77,59,59,55,46,60,58,58,63,51,61,61,76,71,69,56,67,54,63,47,62,65,63,64,65,51,56,70,58,67,62],\"xaxis\":\"x\",\"xbins\":{\"end\":87.0,\"size\":1.0,\"start\":21.0},\"yaxis\":\"y\",\"type\":\"histogram\"},{\"legendgroup\":\"AGE\",\"marker\":{\"color\":\"rgb(31, 119, 180)\"},\"mode\":\"lines\",\"name\":\"AGE\",\"showlegend\":false,\"x\":[21.0,21.132,21.264,21.396,21.528,21.66,21.792,21.924,22.056,22.188,22.32,22.451999999999998,22.584,22.716,22.848,22.98,23.112000000000002,23.244,23.376,23.508,23.64,23.772,23.904,24.036,24.168,24.3,24.432,24.564,24.696,24.828,24.96,25.092,25.224,25.356,25.488,25.62,25.752,25.884,26.016,26.148,26.28,26.412,26.544,26.676000000000002,26.808,26.94,27.072,27.204,27.336,27.468,27.6,27.732,27.864,27.996000000000002,28.128,28.259999999999998,28.392,28.524,28.656,28.788,28.92,29.052,29.183999999999997,29.316000000000003,29.448,29.58,29.712,29.844,29.976,30.108,30.240000000000002,30.372,30.503999999999998,30.636,30.768,30.9,31.032,31.164,31.296,31.428,31.560000000000002,31.692,31.823999999999998,31.956,32.088,32.22,32.352000000000004,32.484,32.616,32.748,32.88,33.012,33.144,33.275999999999996,33.408,33.54,33.672,33.804,33.936,34.068,34.2,34.332,34.464,34.596000000000004,34.728,34.86,34.992000000000004,35.124,35.256,35.388,35.519999999999996,35.652,35.784,35.916,36.048,36.18,36.312,36.444,36.576,36.708,36.84,36.972,37.104,37.236000000000004,37.367999999999995,37.5,37.632000000000005,37.763999999999996,37.896,38.028,38.16,38.292,38.424,38.556,38.688,38.82,38.952,39.084,39.216,39.348,39.480000000000004,39.611999999999995,39.744,39.876000000000005,40.007999999999996,40.14,40.272,40.403999999999996,40.536,40.668,40.8,40.932,41.064,41.196,41.328,41.46,41.592,41.724000000000004,41.856,41.988,42.120000000000005,42.251999999999995,42.384,42.516,42.647999999999996,42.78,42.912,43.044,43.176,43.308,43.44,43.572,43.704,43.836,43.968,44.1,44.232,44.364000000000004,44.495999999999995,44.628,44.760000000000005,44.891999999999996,45.024,45.156,45.288,45.42,45.552,45.684,45.816,45.948,46.08,46.212,46.344,46.476,46.608000000000004,46.739999999999995,46.872,47.004000000000005,47.135999999999996,47.268,47.4,47.532,47.664,47.796,47.928,48.06,48.192,48.324,48.456,48.588,48.72,48.852000000000004,48.984,49.116,49.248000000000005,49.379999999999995,49.512,49.644,49.775999999999996,49.908,50.04,50.172,50.304,50.436,50.568,50.7,50.832,50.964,51.096000000000004,51.228,51.36,51.492000000000004,51.623999999999995,51.756,51.888000000000005,52.019999999999996,52.152,52.284,52.416,52.548,52.68,52.812,52.944,53.076,53.208,53.34,53.472,53.604,53.736,53.868,54.0,54.132,54.264,54.396,54.528,54.66,54.792,54.924,55.056,55.188,55.32,55.452,55.584,55.716,55.848,55.98,56.112,56.244,56.376,56.508,56.64,56.772,56.904,57.036,57.168,57.3,57.432,57.564,57.696,57.828,57.96,58.092,58.224,58.356,58.488,58.62,58.752,58.884,59.016,59.148,59.28,59.412,59.544,59.676,59.808,59.94,60.072,60.204,60.336,60.468,60.6,60.732,60.864,60.996,61.128,61.26,61.392,61.524,61.656,61.788,61.92,62.052,62.184,62.316,62.448,62.58,62.712,62.844,62.976,63.108,63.24,63.372,63.504,63.636,63.768,63.9,64.032,64.164,64.29599999999999,64.428,64.56,64.69200000000001,64.824,64.956,65.088,65.22,65.352,65.48400000000001,65.616,65.74799999999999,65.88,66.012,66.144,66.27600000000001,66.408,66.53999999999999,66.672,66.804,66.936,67.068,67.2,67.332,67.464,67.596,67.72800000000001,67.86,67.99199999999999,68.124,68.256,68.388,68.52000000000001,68.652,68.78399999999999,68.916,69.048,69.18,69.312,69.444,69.576,69.708,69.84,69.97200000000001,70.104,70.23599999999999,70.368,70.5,70.632,70.76400000000001,70.896,71.02799999999999,71.16,71.292,71.424,71.556,71.688,71.82,71.952,72.084,72.21600000000001,72.348,72.47999999999999,72.612,72.744,72.876,73.00800000000001,73.14,73.27199999999999,73.404,73.536,73.668,73.8,73.932,74.064,74.196,74.328,74.46000000000001,74.592,74.72399999999999,74.856,74.988,75.12,75.25200000000001,75.384,75.51599999999999,75.648,75.78,75.912,76.044,76.176,76.30799999999999,76.44,76.572,76.70400000000001,76.836,76.968,77.1,77.232,77.364,77.49600000000001,77.628,77.75999999999999,77.892,78.024,78.156,78.288,78.42,78.55199999999999,78.684,78.816,78.94800000000001,79.08,79.212,79.344,79.476,79.608,79.74000000000001,79.872,80.00399999999999,80.136,80.268,80.4,80.532,80.664,80.79599999999999,80.928,81.06,81.19200000000001,81.324,81.456,81.588,81.72,81.852,81.98400000000001,82.116,82.24799999999999,82.38,82.512,82.644,82.77600000000001,82.908,83.03999999999999,83.172,83.304,83.436,83.568,83.7,83.832,83.964,84.096,84.22800000000001,84.36,84.49199999999999,84.624,84.756,84.888,85.02,85.152,85.284,85.416,85.548,85.68,85.812,85.944,86.076,86.208,86.34,86.472,86.604,86.736,86.868],\"xaxis\":\"x\",\"y\":[0.0004949760468725669,0.0004943426307304881,0.0004924472414163909,0.0004893043948106228,0.00048493807822370575,0.00047938144552859776,0.000472676397969126,0.00046487305805855534,0.00045602914580761977,0.00044620926813831346,0.0004354841337140734,0.00042392970652111985,0.00041162631234927216,0.00039865771283099244,0.00038511016190001664,0.0003710714594289031,0.0003566300164089659,0.0003418739453641867,0.0003268901887670574,0.0003117636970785767,0.00029657666670106453,0.000281407846648589,0.0002663319211454195,0.0002514189736988884,0.00023673403649993925,0.00022233672732201653,0.00020828097445388307,0.0001946148286485221,0.0001813803596286223,0.00016861363338482418,0.00015634476535669484,0.00014459804361375783,0.0001333921153650867,0.00012274022952606914,0.00011265052765996523,0.0001031263753853566,9.416672628975423e-05,8.576651050220203e-05,7.791704033840892e-05,7.060642582302695e-05,6.381999339590393e-05,5.754070170199644e-05,5.174954902741368e-05,4.642596765607749e-05,4.154820116280626e-05,3.709366141043181e-05,3.3039262763505615e-05,2.9361731753687913e-05,2.6037891118490482e-05,2.3044917774167724e-05,2.036057486591402e-05,1.7963418556906735e-05,1.5832980666976922e-05,1.394992864851165e-05,1.229620469005727e-05,1.0855145967000838e-05,9.611588214958773e-06,8.551954887512938e-06,7.66433417899871e-06,6.938546149144528e-06,6.366202083966807e-06,5.9407580712681105e-06,5.657564564419167e-06,5.513913460007646e-06,5.5090839286592284e-06,5.644387919174643e-06,5.9232159094196924e-06,6.35108310856767e-06,6.935675929864584e-06,7.68689815679414e-06,8.616915824351778e-06,9.740199437425947e-06,1.1073561756763537e-05,1.2636189006866186e-05,1.4449663007119988e-05,1.6537971405702812e-05,1.892750291401381e-05,2.1647024206614724e-05,2.472763497733809e-05,2.8202697535831137e-05,3.2107737299817766e-05,3.648031059593025e-05,4.135983633464096e-05,4.678738838022913e-05,5.280544580120207e-05,5.945759866484914e-05,6.678820763428556e-05,7.484201633769506e-05,8.366371630499817e-05,9.32974652012305e-05,0.00010378636011959587,0.00011517186881796446,0.0001274932229744097,0.00014078677878039713,0.0001550853514612084,0.00017041753158539708,0.0001868069922690126,0.00020427179756388008,0.00022282372340860356,0.00024246760348114842,0.000263200713087638,0.0002850122048190228,0.0003078826100727532,0.0003317834206406092,0.00035667676438058823,0.00038251518849913795,0.00040924156315503754,0.0004367891169500032,0.00046508161439309185,0.0004940336836242098,0.0005235513005733686,0.0005535324333422849,0.0005838678479580811,0.0006144420738084742,0.0006451345240747912,0.0006758207633917411,0.0007063739118451872,0.0007366661713397322,0.000766570457398447,0.0007959621166703789,0.000824720707889298,0.0008527318218192033,0.0008798889139026404,0.0009060951219548115,0.000931265040369241,0.00095532642195824,0.00097822177877087,0.0009999098540272153,0.0010203669386807325,0.0010395880080568884,0.0010575876564883342,0.001074400810832024,0.001090083207157292,0.001104711618668134,0.0011183838269898934,0.0011312183332237422,0.0011433538095583554,0.0011549482966297959,0.0011661781561392867,0.0011772367923765128,0.0011883331601599163,0.0011996900802082675,0.0012115423860215486,0.0012241349289075635,0.0012377204697904779,0.0012525574878404127,0.0012689079367470585,0.0012870349796197547,0.0013072007330427473,0.001329664049775605,0.0013546783680085635,0.0013824896530186279,0.0014133344545950782,0.0014474381007928668,0.0014850130455169063,0.0015262573842324705,0.001571353548830388,0.0016204671894430407,0.001673746247896306,0.0017313202245734772,0.0017932996378296055,0.0018597756727859595,0.0019308200143969584,0.0020064848581418174,0.0020868030905615885,0.0021717886311301755,0.0022614369265934724,0.0023557255888942735,0.0024546151680694085,0.00255805005199712,0.0026659594855140034,0.0027782587021351057,0.002894850162319073,0.003015624892845678,0.003140463922343223,0.003269239808256197,0.003401818250528568,0.0035380597869571605,0.003677821564526217,0.003820959180064757,0.003967328582290226,0.0041167880257537495,0.004269200065433412,0.004424433578804882,0.004582365800234036,0.004742884350574695,0.00490588924301547,0.00507129484459989,0.0052390317715391085,0.00540904869553541,0.005581314037910513,0.005755817528445725,0.005932571606530685,0.0061116126434974105,0.006293001966882521,0.006476826669776209,0.0066632001913243645,0.006852262657769836,0.007044180977045432,0.007239148683745704,0.0074373855351751545,0.007639136862956746,0.007844672688244528,0.008054286611785127,0.008268294492786132,0.008487032932673695,0.008710857581266733,0.008940141283614575,0.009175272085706175,0.00941665111648256,0.009664690362110828,0.009919810346393255,0.010182437728607092,0.01045300282714072,0.010731937074185148,0.011019670403644313,0.011316628571540529,0.011623230405719841,0.01193988497979567,0.012266988705190707,0.012604922335000261,0.012954047874323813,0.013314705393778223,0.013687209746145814,0.014071847190508148,0.014468871933694706,0.014878502605312987,0.015300918689839384,0.015736256947009482,0.016184607859787953,0.016646012157203745,0.01712045746699251,0.017607875159935626,0.018108137453694367,0.018621054848466306,0.01914637396964379,0.01968377589355623,0.020232875031115923,0.020793218640610924,0.02136428703490072,0.021945494539875963,0.02253619125030373,0.023135665616251157,0.023743147878397788,0.024357814354016467,0.024978792557600656,0.025605167121481,0.026235986462786673,0.026870270124271456,0.02750701669838571,0.02814521222704745,0.028783838954365693,0.02942188429657259,0.030058349883056976,0.030692260515016858,0.03132267288415341,0.03194868389320759,0.032569438423102295,0.03318413639799071,0.033792039009552695,0.03439247397520381,0.03498483972123318,0.03556860840088033,0.03614332767855804,0.03670862123434757,0.037264187966973075,0.03780979989814729,0.038345298805891,0.038870591638596526,0.039385644784675516,0.03989047729411583,0.04038515316770207,0.040869772846650894,0.041344464049667205,0.041809372115701654,0.042264650018839243,0.0427104482267159,0.04314690457565245,0.04357413433442543,0.04399222062440384,0.04440120535691606,0.04480108083942833,0.045191782190724644,0.04557318069210324,0.045945078186993386,0.04630720262566953,0.04665920483522589,0.04700065657796814,0.047331049944142854,0.04764979810769512,0.047956237456692134,0.04824963109334449,0.048529173682287416,0.048793997610032155,0.04904318040330317,0.049275753339362356,0.04949071116739058,0.04968702284654235,0.04986364319343481,0.0500195253195656,0.05015363372753762,0.050264957924034785,0.05035252639737045,0.05041542079820007,0.05045279015385201,0.050463864939845615,0.05044797082676392,0.05040454191696832,0.05033313328391777,0.05023343262735687,0.05010527086057518,0.049948631451563044,0.04976365834833716,0.0495506623301475,0.04931012564075372,0.04904270477747975,0.04874923133025435,0.04843071078814624,0.048088319256773336,0.047723398058078924,0.047337446213899036,0.046932110846026866,0.04650917555755389,0.046070546892532045,0.045618239002823746,0.04515435668172209,0.04468107695287542,0.04420062942959491,0.043715275683142096,0.043227287878545996,0.042738926952381365,0.04225242061836132,0.04176994149325435,0.041293585637319455,0.040825351800093806,0.04036712165398083,0.0399206412848325,0.03948750419084093,0.03906913601892136,0.03866678124182898,0.03828149195003152,0.03791411890047007,0.037565304930401514,0.037235480809227575,0.03692486356523473,0.03663345728820124,0.03636105637350582,0.036107251139330304,0.03587143571634813,0.03565281807942983,0.03545043206381867,0.03526315118427981,0.035089704055178916,0.03492869119250133,0.03477860296557817,0.03463783845678404,0.03450472498167375,0.03437753801983427,0.03425452130797893,0.034133906851315,0.034013934616722356,0.033892871681533744,0.03376903062441042,0.03364078695967984,0.033506595433228197,0.033365005016344394,0.0332146724534828,0.03305437424049602,0.03288301693120437,0.032699645691974887,0.03250345104605356,0.032293773771493665,0.0320701079384687,0.03183210209333982,0.0315795586178932,0.03131243131249894,0.031030821271398255,0.030734971136752522,0.03042525783531584,0.03010218391749303,0.02976636763295804,0.02941853188980661,0.029059492255269374,0.028690144165202488,0.028311449516792205,0.02792442282406337,0.02753011711880646,0.027129609780362215,0.02672398847630611,0.026314337392449105,0.02590172392472447,0.02548718599752495,0.025071720162953892,0.024656270623372313,0.024241719305693944,0.023828877100267327,0.02341847636008172,0.02301116473766199,0.02260750041761421,0.02220794878261935,0.02181288053002035,0.021422571235304624,0.021037202338053364,0.020656863505616463,0.020281556310183677,0.019911199136364282,0.019545633219147065,0.019184629696466924,0.018827897546812553,0.018475092270594906,0.018125825164564995,0.01777967303158728,0.017436188163657454,0.017094908434301025,0.01675536733742647,0.01641710381333423,0.016079671708838016,0.01574264872723711,0.015405644735027976,0.015068309305564161,0.014730338395117752,0.014391480063680552,0.01405153917104981,0.013710380997922256,0.013367933761502299,0.013024190015132364,0.012679206941280776,0.012333105566495885,0.011986068945266716,0.011638339376777374,0.011290214733964991,0.010942043997811256,0.01059422210115634,0.010247184195336944,0.0099013994594663,0.009557364576114483,0.009215596998487063,0.008876628132975203,0.008540996557259584,0.0082092413881403,0.007881895905144442,0.0075594815259764445,0.007242502218314708,0.006931439419634012,0.006626747522993039,0.006328849972413509,0.006038135996951242,0.005754957998163782,0.005479629591747384,0.005212424290951318,0.004953574807258524,0.004703272932984989,0.004461669961086399,0.004228877589723738,0.0040049692531219944,0.003789981816012684,0.0035839175664789855,0.0033867464412794556,0.003198408418621346,0.0030188160157646016,0.002847856832598732,0.0026853960872657433,0.0025312790957907607,0.0023853336543137992,0.0022473722896603435,0.0021171943514210665,0.001994587926211755,0.0018793315621449427,0.0017711957985756502,0.0016699445027145198,0.0015753360205892106,0.0014871241549613134,0.0014050589870839205,0.0013288875625535436,0.0012583544639413185,0.0011932022943782357,0.0011331720968430928,0.0010780037336062035,0.001027436249187174,0.0009812082383757444,0.0009390582384424095,0.0009007251617410609,0.0008659487815972028,0.0008344702808028769,0.00080603286832558,0.0007803824660996772,0.0007572684641169869,0.0007364445385713916,0.0007176695246316703,0.0007007083325970268,0.0006853328937957149,0.0006713231206697634,0.0006584678640827018,0.0006465658500125036,0.0006354265774535324,0.0006248711595393626,0.0006147330905901501,0.0006048589229486333,0.0005951088390520808,0.0005853571061386893],\"yaxis\":\"y\",\"type\":\"scatter\"},{\"legendgroup\":\"AGE\",\"marker\":{\"color\":\"rgb(31, 119, 180)\",\"symbol\":\"line-ns-open\"},\"mode\":\"markers\",\"name\":\"AGE\",\"showlegend\":false,\"x\":[69,74,59,63,63,75,52,51,68,53,61,72,60,58,69,48,75,57,68,61,44,64,21,60,72,65,61,69,53,55,57,62,56,67,59,59,60,56,56,60,68,63,77,52,70,72,62,64,70,60,56,63,54,49,57,52,63,73,47,69,70,60,70,68,74,71,56,66,76,78,68,66,67,60,61,58,76,56,67,73,58,54,62,81,56,60,66,62,62,55,62,71,52,59,48,60,61,59,64,56,58,81,64,62,72,60,61,60,49,53,58,61,68,60,72,72,57,51,54,56,77,64,57,66,70,53,51,58,58,63,51,61,61,76,71,69,56,67,54,63,47,62,65,63,64,65,51,56,70,58,67,62,74,69,64,75,47,57,56,68,55,62,73,68,75,63,61,62,44,56,54,57,56,69,72,59,70,64,61,72,63,74,71,71,72,77,72,55,65,67,69,55,51,64,63,69,64,59,73,55,63,60,74,65,79,62,71,63,67,55,54,77,58,64,61,62,67,56,70,70,57,61,77,63,62,59,70,71,56,57,78,64,62,49,77,64,63,54,38,75,70,59,77,61,64,59,71,67,64,68,69,64,59,67,74,77,60,64,70,58,59,39,67,71,70,60,55,60,55,55,70,63,64,59,56,64,62,87,77,59,59,55,46,60,58,58,63,51,61,61,76,71,69,56,67,54,63,47,62,65,63,64,65,51,56,70,58,67,62],\"xaxis\":\"x\",\"y\":[\"AGE\",\"AGE\",\"AGE\",\"AGE\",\"AGE\",\"AGE\",\"AGE\",\"AGE\",\"AGE\",\"AGE\",\"AGE\",\"AGE\",\"AGE\",\"AGE\",\"AGE\",\"AGE\",\"AGE\",\"AGE\",\"AGE\",\"AGE\",\"AGE\",\"AGE\",\"AGE\",\"AGE\",\"AGE\",\"AGE\",\"AGE\",\"AGE\",\"AGE\",\"AGE\",\"AGE\",\"AGE\",\"AGE\",\"AGE\",\"AGE\",\"AGE\",\"AGE\",\"AGE\",\"AGE\",\"AGE\",\"AGE\",\"AGE\",\"AGE\",\"AGE\",\"AGE\",\"AGE\",\"AGE\",\"AGE\",\"AGE\",\"AGE\",\"AGE\",\"AGE\",\"AGE\",\"AGE\",\"AGE\",\"AGE\",\"AGE\",\"AGE\",\"AGE\",\"AGE\",\"AGE\",\"AGE\",\"AGE\",\"AGE\",\"AGE\",\"AGE\",\"AGE\",\"AGE\",\"AGE\",\"AGE\",\"AGE\",\"AGE\",\"AGE\",\"AGE\",\"AGE\",\"AGE\",\"AGE\",\"AGE\",\"AGE\",\"AGE\",\"AGE\",\"AGE\",\"AGE\",\"AGE\",\"AGE\",\"AGE\",\"AGE\",\"AGE\",\"AGE\",\"AGE\",\"AGE\",\"AGE\",\"AGE\",\"AGE\",\"AGE\",\"AGE\",\"AGE\",\"AGE\",\"AGE\",\"AGE\",\"AGE\",\"AGE\",\"AGE\",\"AGE\",\"AGE\",\"AGE\",\"AGE\",\"AGE\",\"AGE\",\"AGE\",\"AGE\",\"AGE\",\"AGE\",\"AGE\",\"AGE\",\"AGE\",\"AGE\",\"AGE\",\"AGE\",\"AGE\",\"AGE\",\"AGE\",\"AGE\",\"AGE\",\"AGE\",\"AGE\",\"AGE\",\"AGE\",\"AGE\",\"AGE\",\"AGE\",\"AGE\",\"AGE\",\"AGE\",\"AGE\",\"AGE\",\"AGE\",\"AGE\",\"AGE\",\"AGE\",\"AGE\",\"AGE\",\"AGE\",\"AGE\",\"AGE\",\"AGE\",\"AGE\",\"AGE\",\"AGE\",\"AGE\",\"AGE\",\"AGE\",\"AGE\",\"AGE\",\"AGE\",\"AGE\",\"AGE\",\"AGE\",\"AGE\",\"AGE\",\"AGE\",\"AGE\",\"AGE\",\"AGE\",\"AGE\",\"AGE\",\"AGE\",\"AGE\",\"AGE\",\"AGE\",\"AGE\",\"AGE\",\"AGE\",\"AGE\",\"AGE\",\"AGE\",\"AGE\",\"AGE\",\"AGE\",\"AGE\",\"AGE\",\"AGE\",\"AGE\",\"AGE\",\"AGE\",\"AGE\",\"AGE\",\"AGE\",\"AGE\",\"AGE\",\"AGE\",\"AGE\",\"AGE\",\"AGE\",\"AGE\",\"AGE\",\"AGE\",\"AGE\",\"AGE\",\"AGE\",\"AGE\",\"AGE\",\"AGE\",\"AGE\",\"AGE\",\"AGE\",\"AGE\",\"AGE\",\"AGE\",\"AGE\",\"AGE\",\"AGE\",\"AGE\",\"AGE\",\"AGE\",\"AGE\",\"AGE\",\"AGE\",\"AGE\",\"AGE\",\"AGE\",\"AGE\",\"AGE\",\"AGE\",\"AGE\",\"AGE\",\"AGE\",\"AGE\",\"AGE\",\"AGE\",\"AGE\",\"AGE\",\"AGE\",\"AGE\",\"AGE\",\"AGE\",\"AGE\",\"AGE\",\"AGE\",\"AGE\",\"AGE\",\"AGE\",\"AGE\",\"AGE\",\"AGE\",\"AGE\",\"AGE\",\"AGE\",\"AGE\",\"AGE\",\"AGE\",\"AGE\",\"AGE\",\"AGE\",\"AGE\",\"AGE\",\"AGE\",\"AGE\",\"AGE\",\"AGE\",\"AGE\",\"AGE\",\"AGE\",\"AGE\",\"AGE\",\"AGE\",\"AGE\",\"AGE\",\"AGE\",\"AGE\",\"AGE\",\"AGE\",\"AGE\",\"AGE\",\"AGE\",\"AGE\",\"AGE\",\"AGE\",\"AGE\",\"AGE\",\"AGE\",\"AGE\",\"AGE\",\"AGE\",\"AGE\",\"AGE\",\"AGE\",\"AGE\",\"AGE\",\"AGE\",\"AGE\",\"AGE\",\"AGE\",\"AGE\",\"AGE\",\"AGE\",\"AGE\",\"AGE\",\"AGE\",\"AGE\",\"AGE\",\"AGE\",\"AGE\",\"AGE\",\"AGE\",\"AGE\",\"AGE\",\"AGE\",\"AGE\"],\"yaxis\":\"y2\",\"type\":\"scatter\"}],                        {\"barmode\":\"overlay\",\"hovermode\":\"closest\",\"legend\":{\"traceorder\":\"reversed\"},\"xaxis\":{\"anchor\":\"y2\",\"domain\":[0.0,1.0],\"zeroline\":false},\"yaxis\":{\"anchor\":\"free\",\"domain\":[0.35,1],\"position\":0.0},\"yaxis2\":{\"anchor\":\"x\",\"domain\":[0,0.25],\"dtick\":1,\"showticklabels\":false},\"template\":{\"data\":{\"histogram2dcontour\":[{\"type\":\"histogram2dcontour\",\"colorbar\":{\"outlinewidth\":0,\"ticks\":\"\"},\"colorscale\":[[0.0,\"#0d0887\"],[0.1111111111111111,\"#46039f\"],[0.2222222222222222,\"#7201a8\"],[0.3333333333333333,\"#9c179e\"],[0.4444444444444444,\"#bd3786\"],[0.5555555555555556,\"#d8576b\"],[0.6666666666666666,\"#ed7953\"],[0.7777777777777778,\"#fb9f3a\"],[0.8888888888888888,\"#fdca26\"],[1.0,\"#f0f921\"]]}],\"choropleth\":[{\"type\":\"choropleth\",\"colorbar\":{\"outlinewidth\":0,\"ticks\":\"\"}}],\"histogram2d\":[{\"type\":\"histogram2d\",\"colorbar\":{\"outlinewidth\":0,\"ticks\":\"\"},\"colorscale\":[[0.0,\"#0d0887\"],[0.1111111111111111,\"#46039f\"],[0.2222222222222222,\"#7201a8\"],[0.3333333333333333,\"#9c179e\"],[0.4444444444444444,\"#bd3786\"],[0.5555555555555556,\"#d8576b\"],[0.6666666666666666,\"#ed7953\"],[0.7777777777777778,\"#fb9f3a\"],[0.8888888888888888,\"#fdca26\"],[1.0,\"#f0f921\"]]}],\"heatmap\":[{\"type\":\"heatmap\",\"colorbar\":{\"outlinewidth\":0,\"ticks\":\"\"},\"colorscale\":[[0.0,\"#0d0887\"],[0.1111111111111111,\"#46039f\"],[0.2222222222222222,\"#7201a8\"],[0.3333333333333333,\"#9c179e\"],[0.4444444444444444,\"#bd3786\"],[0.5555555555555556,\"#d8576b\"],[0.6666666666666666,\"#ed7953\"],[0.7777777777777778,\"#fb9f3a\"],[0.8888888888888888,\"#fdca26\"],[1.0,\"#f0f921\"]]}],\"heatmapgl\":[{\"type\":\"heatmapgl\",\"colorbar\":{\"outlinewidth\":0,\"ticks\":\"\"},\"colorscale\":[[0.0,\"#0d0887\"],[0.1111111111111111,\"#46039f\"],[0.2222222222222222,\"#7201a8\"],[0.3333333333333333,\"#9c179e\"],[0.4444444444444444,\"#bd3786\"],[0.5555555555555556,\"#d8576b\"],[0.6666666666666666,\"#ed7953\"],[0.7777777777777778,\"#fb9f3a\"],[0.8888888888888888,\"#fdca26\"],[1.0,\"#f0f921\"]]}],\"contourcarpet\":[{\"type\":\"contourcarpet\",\"colorbar\":{\"outlinewidth\":0,\"ticks\":\"\"}}],\"contour\":[{\"type\":\"contour\",\"colorbar\":{\"outlinewidth\":0,\"ticks\":\"\"},\"colorscale\":[[0.0,\"#0d0887\"],[0.1111111111111111,\"#46039f\"],[0.2222222222222222,\"#7201a8\"],[0.3333333333333333,\"#9c179e\"],[0.4444444444444444,\"#bd3786\"],[0.5555555555555556,\"#d8576b\"],[0.6666666666666666,\"#ed7953\"],[0.7777777777777778,\"#fb9f3a\"],[0.8888888888888888,\"#fdca26\"],[1.0,\"#f0f921\"]]}],\"surface\":[{\"type\":\"surface\",\"colorbar\":{\"outlinewidth\":0,\"ticks\":\"\"},\"colorscale\":[[0.0,\"#0d0887\"],[0.1111111111111111,\"#46039f\"],[0.2222222222222222,\"#7201a8\"],[0.3333333333333333,\"#9c179e\"],[0.4444444444444444,\"#bd3786\"],[0.5555555555555556,\"#d8576b\"],[0.6666666666666666,\"#ed7953\"],[0.7777777777777778,\"#fb9f3a\"],[0.8888888888888888,\"#fdca26\"],[1.0,\"#f0f921\"]]}],\"mesh3d\":[{\"type\":\"mesh3d\",\"colorbar\":{\"outlinewidth\":0,\"ticks\":\"\"}}],\"scatter\":[{\"fillpattern\":{\"fillmode\":\"overlay\",\"size\":10,\"solidity\":0.2},\"type\":\"scatter\"}],\"parcoords\":[{\"type\":\"parcoords\",\"line\":{\"colorbar\":{\"outlinewidth\":0,\"ticks\":\"\"}}}],\"scatterpolargl\":[{\"type\":\"scatterpolargl\",\"marker\":{\"colorbar\":{\"outlinewidth\":0,\"ticks\":\"\"}}}],\"bar\":[{\"error_x\":{\"color\":\"#2a3f5f\"},\"error_y\":{\"color\":\"#2a3f5f\"},\"marker\":{\"line\":{\"color\":\"#E5ECF6\",\"width\":0.5},\"pattern\":{\"fillmode\":\"overlay\",\"size\":10,\"solidity\":0.2}},\"type\":\"bar\"}],\"scattergeo\":[{\"type\":\"scattergeo\",\"marker\":{\"colorbar\":{\"outlinewidth\":0,\"ticks\":\"\"}}}],\"scatterpolar\":[{\"type\":\"scatterpolar\",\"marker\":{\"colorbar\":{\"outlinewidth\":0,\"ticks\":\"\"}}}],\"histogram\":[{\"marker\":{\"pattern\":{\"fillmode\":\"overlay\",\"size\":10,\"solidity\":0.2}},\"type\":\"histogram\"}],\"scattergl\":[{\"type\":\"scattergl\",\"marker\":{\"colorbar\":{\"outlinewidth\":0,\"ticks\":\"\"}}}],\"scatter3d\":[{\"type\":\"scatter3d\",\"line\":{\"colorbar\":{\"outlinewidth\":0,\"ticks\":\"\"}},\"marker\":{\"colorbar\":{\"outlinewidth\":0,\"ticks\":\"\"}}}],\"scattermapbox\":[{\"type\":\"scattermapbox\",\"marker\":{\"colorbar\":{\"outlinewidth\":0,\"ticks\":\"\"}}}],\"scatterternary\":[{\"type\":\"scatterternary\",\"marker\":{\"colorbar\":{\"outlinewidth\":0,\"ticks\":\"\"}}}],\"scattercarpet\":[{\"type\":\"scattercarpet\",\"marker\":{\"colorbar\":{\"outlinewidth\":0,\"ticks\":\"\"}}}],\"carpet\":[{\"aaxis\":{\"endlinecolor\":\"#2a3f5f\",\"gridcolor\":\"white\",\"linecolor\":\"white\",\"minorgridcolor\":\"white\",\"startlinecolor\":\"#2a3f5f\"},\"baxis\":{\"endlinecolor\":\"#2a3f5f\",\"gridcolor\":\"white\",\"linecolor\":\"white\",\"minorgridcolor\":\"white\",\"startlinecolor\":\"#2a3f5f\"},\"type\":\"carpet\"}],\"table\":[{\"cells\":{\"fill\":{\"color\":\"#EBF0F8\"},\"line\":{\"color\":\"white\"}},\"header\":{\"fill\":{\"color\":\"#C8D4E3\"},\"line\":{\"color\":\"white\"}},\"type\":\"table\"}],\"barpolar\":[{\"marker\":{\"line\":{\"color\":\"#E5ECF6\",\"width\":0.5},\"pattern\":{\"fillmode\":\"overlay\",\"size\":10,\"solidity\":0.2}},\"type\":\"barpolar\"}],\"pie\":[{\"automargin\":true,\"type\":\"pie\"}]},\"layout\":{\"autotypenumbers\":\"strict\",\"colorway\":[\"#636efa\",\"#EF553B\",\"#00cc96\",\"#ab63fa\",\"#FFA15A\",\"#19d3f3\",\"#FF6692\",\"#B6E880\",\"#FF97FF\",\"#FECB52\"],\"font\":{\"color\":\"#2a3f5f\"},\"hovermode\":\"closest\",\"hoverlabel\":{\"align\":\"left\"},\"paper_bgcolor\":\"white\",\"plot_bgcolor\":\"#E5ECF6\",\"polar\":{\"bgcolor\":\"#E5ECF6\",\"angularaxis\":{\"gridcolor\":\"white\",\"linecolor\":\"white\",\"ticks\":\"\"},\"radialaxis\":{\"gridcolor\":\"white\",\"linecolor\":\"white\",\"ticks\":\"\"}},\"ternary\":{\"bgcolor\":\"#E5ECF6\",\"aaxis\":{\"gridcolor\":\"white\",\"linecolor\":\"white\",\"ticks\":\"\"},\"baxis\":{\"gridcolor\":\"white\",\"linecolor\":\"white\",\"ticks\":\"\"},\"caxis\":{\"gridcolor\":\"white\",\"linecolor\":\"white\",\"ticks\":\"\"}},\"coloraxis\":{\"colorbar\":{\"outlinewidth\":0,\"ticks\":\"\"}},\"colorscale\":{\"sequential\":[[0.0,\"#0d0887\"],[0.1111111111111111,\"#46039f\"],[0.2222222222222222,\"#7201a8\"],[0.3333333333333333,\"#9c179e\"],[0.4444444444444444,\"#bd3786\"],[0.5555555555555556,\"#d8576b\"],[0.6666666666666666,\"#ed7953\"],[0.7777777777777778,\"#fb9f3a\"],[0.8888888888888888,\"#fdca26\"],[1.0,\"#f0f921\"]],\"sequentialminus\":[[0.0,\"#0d0887\"],[0.1111111111111111,\"#46039f\"],[0.2222222222222222,\"#7201a8\"],[0.3333333333333333,\"#9c179e\"],[0.4444444444444444,\"#bd3786\"],[0.5555555555555556,\"#d8576b\"],[0.6666666666666666,\"#ed7953\"],[0.7777777777777778,\"#fb9f3a\"],[0.8888888888888888,\"#fdca26\"],[1.0,\"#f0f921\"]],\"diverging\":[[0,\"#8e0152\"],[0.1,\"#c51b7d\"],[0.2,\"#de77ae\"],[0.3,\"#f1b6da\"],[0.4,\"#fde0ef\"],[0.5,\"#f7f7f7\"],[0.6,\"#e6f5d0\"],[0.7,\"#b8e186\"],[0.8,\"#7fbc41\"],[0.9,\"#4d9221\"],[1,\"#276419\"]]},\"xaxis\":{\"gridcolor\":\"white\",\"linecolor\":\"white\",\"ticks\":\"\",\"title\":{\"standoff\":15},\"zerolinecolor\":\"white\",\"automargin\":true,\"zerolinewidth\":2},\"yaxis\":{\"gridcolor\":\"white\",\"linecolor\":\"white\",\"ticks\":\"\",\"title\":{\"standoff\":15},\"zerolinecolor\":\"white\",\"automargin\":true,\"zerolinewidth\":2},\"scene\":{\"xaxis\":{\"backgroundcolor\":\"#E5ECF6\",\"gridcolor\":\"white\",\"linecolor\":\"white\",\"showbackground\":true,\"ticks\":\"\",\"zerolinecolor\":\"white\",\"gridwidth\":2},\"yaxis\":{\"backgroundcolor\":\"#E5ECF6\",\"gridcolor\":\"white\",\"linecolor\":\"white\",\"showbackground\":true,\"ticks\":\"\",\"zerolinecolor\":\"white\",\"gridwidth\":2},\"zaxis\":{\"backgroundcolor\":\"#E5ECF6\",\"gridcolor\":\"white\",\"linecolor\":\"white\",\"showbackground\":true,\"ticks\":\"\",\"zerolinecolor\":\"white\",\"gridwidth\":2}},\"shapedefaults\":{\"line\":{\"color\":\"#2a3f5f\"}},\"annotationdefaults\":{\"arrowcolor\":\"#2a3f5f\",\"arrowhead\":0,\"arrowwidth\":1},\"geo\":{\"bgcolor\":\"white\",\"landcolor\":\"#E5ECF6\",\"subunitcolor\":\"white\",\"showland\":true,\"showlakes\":true,\"lakecolor\":\"white\"},\"title\":{\"x\":0.05},\"mapbox\":{\"style\":\"light\"}}}},                        {\"responsive\": true}                    ).then(function(){\n",
              "                            \n",
              "var gd = document.getElementById('ab899552-2d90-4f42-a990-f2fbb4308a0c');\n",
              "var x = new MutationObserver(function (mutations, observer) {{\n",
              "        var display = window.getComputedStyle(gd).display;\n",
              "        if (!display || display === 'none') {{\n",
              "            console.log([gd, 'removed!']);\n",
              "            Plotly.purge(gd);\n",
              "            observer.disconnect();\n",
              "        }}\n",
              "}});\n",
              "\n",
              "// Listen for the removal of the full notebook cells\n",
              "var notebookContainer = gd.closest('#notebook-container');\n",
              "if (notebookContainer) {{\n",
              "    x.observe(notebookContainer, {childList: true});\n",
              "}}\n",
              "\n",
              "// Listen for the clearing of the current output cell\n",
              "var outputEl = gd.closest('.output');\n",
              "if (outputEl) {{\n",
              "    x.observe(outputEl, {childList: true});\n",
              "}}\n",
              "\n",
              "                        })                };                            </script>        </div>\n",
              "</body>\n",
              "</html>"
            ]
          },
          "metadata": {}
        },
        {
          "output_type": "display_data",
          "data": {
            "text/plain": [
              "<Figure size 640x480 with 0 Axes>"
            ]
          },
          "metadata": {}
        }
      ],
      "source": [
        "hist_data =[dataset[\"AGE\"].values]\n",
        "group_labels = ['AGE'] \n",
        "fig = plt.figure()\n",
        "ax=ff.create_distplot(hist_data, group_labels)\n",
        "\n",
        "ax.show()\n"
      ]
    },
    {
      "cell_type": "code",
      "execution_count": 241,
      "id": "bbddd988",
      "metadata": {
        "execution": {
          "iopub.execute_input": "2023-01-22T17:34:03.405458Z",
          "iopub.status.busy": "2023-01-22T17:34:03.405024Z",
          "iopub.status.idle": "2023-01-22T17:34:04.813753Z",
          "shell.execute_reply": "2023-01-22T17:34:04.812829Z"
        },
        "papermill": {
          "duration": 1.439994,
          "end_time": "2023-01-22T17:34:04.818133",
          "exception": false,
          "start_time": "2023-01-22T17:34:03.378139",
          "status": "completed"
        },
        "tags": [],
        "colab": {
          "base_uri": "https://localhost:8080/",
          "height": 1000
        },
        "id": "bbddd988",
        "outputId": "7f05a166-0cd1-4f4b-93a6-ea97de0c2f1a"
      },
      "outputs": [
        {
          "output_type": "display_data",
          "data": {
            "text/plain": [
              "<Figure size 1800x1800 with 2 Axes>"
            ],
            "image/png": "[encoded data removed]"
          },
          "metadata": {}
        }
      ],
      "source": [
        "corrmat = dataset.corr()\n",
        "plt.subplots(figsize=(18,18))\n",
        "sns.heatmap(corrmat,annot=True, square=True, vmin=0, vmax=1,cmap=\"YlGnBu\");\n",
        "plt.savefig('Downloads\\correlation_map.png')"
      ]
    },
    {
      "cell_type": "code",
      "execution_count": 242,
      "id": "f9fb8068",
      "metadata": {
        "execution": {
          "iopub.execute_input": "2023-01-22T17:34:04.880525Z",
          "iopub.status.busy": "2023-01-22T17:34:04.879736Z",
          "iopub.status.idle": "2023-01-22T17:34:04.998337Z",
          "shell.execute_reply": "2023-01-22T17:34:04.997204Z"
        },
        "papermill": {
          "duration": 0.153112,
          "end_time": "2023-01-22T17:34:05.001017",
          "exception": false,
          "start_time": "2023-01-22T17:34:04.847905",
          "status": "completed"
        },
        "tags": [],
        "colab": {
          "base_uri": "https://localhost:8080/",
          "height": 467
        },
        "id": "f9fb8068",
        "outputId": "bb0ebdaf-e648-4381-8903-5d30c72bf28f"
      },
      "outputs": [
        {
          "output_type": "execute_result",
          "data": {
            "text/plain": [
              "<Axes: xlabel='LUNG_CANCER', ylabel='count'>"
            ]
          },
          "metadata": {},
          "execution_count": 242
        },
        {
          "output_type": "display_data",
          "data": {
            "text/plain": [
              "<Figure size 640x480 with 1 Axes>"
            ],
            "image/png": "[encoded data removed]"
          },
          "metadata": {}
        }
      ],
      "source": [
        "sns.countplot(x ='LUNG_CANCER',data = dataset)\n"
      ]
    },
    {
      "cell_type": "code",
      "execution_count": 243,
      "id": "8b8dca16",
      "metadata": {
        "execution": {
          "iopub.execute_input": "2023-01-22T17:34:05.059582Z",
          "iopub.status.busy": "2023-01-22T17:34:05.058770Z",
          "iopub.status.idle": "2023-01-22T17:34:05.183265Z",
          "shell.execute_reply": "2023-01-22T17:34:05.182376Z"
        },
        "papermill": {
          "duration": 0.156444,
          "end_time": "2023-01-22T17:34:05.185672",
          "exception": false,
          "start_time": "2023-01-22T17:34:05.029228",
          "status": "completed"
        },
        "tags": [],
        "colab": {
          "base_uri": "https://localhost:8080/",
          "height": 467
        },
        "id": "8b8dca16",
        "outputId": "bc967e97-793a-409a-96f2-426460d94395"
      },
      "outputs": [
        {
          "output_type": "execute_result",
          "data": {
            "text/plain": [
              "<Axes: xlabel='YELLOW_FINGERS', ylabel='count'>"
            ]
          },
          "metadata": {},
          "execution_count": 243
        },
        {
          "output_type": "display_data",
          "data": {
            "text/plain": [
              "<Figure size 640x480 with 1 Axes>"
            ],
            "image/png": "[encoded data removed]"
          },
          "metadata": {}
        }
      ],
      "source": [
        "sns.countplot(x = 'YELLOW_FINGERS',data = dataset)"
      ]
    },
    {
      "cell_type": "code",
      "execution_count": 244,
      "id": "53221a1d",
      "metadata": {
        "execution": {
          "iopub.execute_input": "2023-01-22T17:34:05.245159Z",
          "iopub.status.busy": "2023-01-22T17:34:05.244365Z",
          "iopub.status.idle": "2023-01-22T17:34:05.251723Z",
          "shell.execute_reply": "2023-01-22T17:34:05.250827Z"
        },
        "papermill": {
          "duration": 0.039552,
          "end_time": "2023-01-22T17:34:05.253935",
          "exception": false,
          "start_time": "2023-01-22T17:34:05.214383",
          "status": "completed"
        },
        "tags": [],
        "colab": {
          "base_uri": "https://localhost:8080/"
        },
        "id": "53221a1d",
        "outputId": "f1464ebf-dfa3-4dbf-c242-1b7e9ac2e373"
      },
      "outputs": [
        {
          "output_type": "execute_result",
          "data": {
            "text/plain": [
              "array([2, 1])"
            ]
          },
          "metadata": {},
          "execution_count": 244
        }
      ],
      "source": [
        "dataset['ANXIETY'].unique()"
      ]
    },
    {
      "cell_type": "markdown",
      "id": "be6e79d7",
      "metadata": {
        "papermill": {
          "duration": 0.028015,
          "end_time": "2023-01-22T17:34:05.310091",
          "exception": false,
          "start_time": "2023-01-22T17:34:05.282076",
          "status": "completed"
        },
        "tags": [],
        "id": "be6e79d7"
      },
      "source": [
        "unique values"
      ]
    },
    {
      "cell_type": "code",
      "execution_count": 245,
      "id": "61e04add",
      "metadata": {
        "execution": {
          "iopub.execute_input": "2023-01-22T17:34:05.369197Z",
          "iopub.status.busy": "2023-01-22T17:34:05.368403Z",
          "iopub.status.idle": "2023-01-22T17:34:05.375782Z",
          "shell.execute_reply": "2023-01-22T17:34:05.374903Z"
        },
        "papermill": {
          "duration": 0.039184,
          "end_time": "2023-01-22T17:34:05.377985",
          "exception": false,
          "start_time": "2023-01-22T17:34:05.338801",
          "status": "completed"
        },
        "tags": [],
        "colab": {
          "base_uri": "https://localhost:8080/"
        },
        "id": "61e04add",
        "outputId": "b91b7b99-fa40-42fd-882a-9868a36aa322"
      },
      "outputs": [
        {
          "output_type": "execute_result",
          "data": {
            "text/plain": [
              "array([1, 2])"
            ]
          },
          "metadata": {},
          "execution_count": 245
        }
      ],
      "source": [
        "dataset['PEER_PRESSURE'].unique()"
      ]
    },
    {
      "cell_type": "markdown",
      "id": "c3037630",
      "metadata": {
        "papermill": {
          "duration": 0.028131,
          "end_time": "2023-01-22T17:34:05.434809",
          "exception": false,
          "start_time": "2023-01-22T17:34:05.406678",
          "status": "completed"
        },
        "tags": [],
        "id": "c3037630"
      },
      "source": [
        "unique values"
      ]
    },
    {
      "cell_type": "code",
      "execution_count": 246,
      "id": "732f4df9",
      "metadata": {
        "execution": {
          "iopub.execute_input": "2023-01-22T17:34:05.494603Z",
          "iopub.status.busy": "2023-01-22T17:34:05.494144Z",
          "iopub.status.idle": "2023-01-22T17:34:05.628150Z",
          "shell.execute_reply": "2023-01-22T17:34:05.627250Z"
        },
        "papermill": {
          "duration": 0.167527,
          "end_time": "2023-01-22T17:34:05.630754",
          "exception": false,
          "start_time": "2023-01-22T17:34:05.463227",
          "status": "completed"
        },
        "tags": [],
        "colab": {
          "base_uri": "https://localhost:8080/",
          "height": 467
        },
        "id": "732f4df9",
        "outputId": "e2708ffd-705a-43f8-c24b-11ebcbe62978"
      },
      "outputs": [
        {
          "output_type": "execute_result",
          "data": {
            "text/plain": [
              "<Axes: xlabel='CHRONIC DISEASE', ylabel='count'>"
            ]
          },
          "metadata": {},
          "execution_count": 246
        },
        {
          "output_type": "display_data",
          "data": {
            "text/plain": [
              "<Figure size 640x480 with 1 Axes>"
            ],
            "image/png": "[encoded data removed]"
          },
          "metadata": {}
        }
      ],
      "source": [
        "sns.countplot(x = 'CHRONIC DISEASE',data = dataset)"
      ]
    },
    {
      "cell_type": "code",
      "execution_count": 247,
      "id": "5d639b54",
      "metadata": {
        "execution": {
          "iopub.execute_input": "2023-01-22T17:34:05.691403Z",
          "iopub.status.busy": "2023-01-22T17:34:05.690990Z",
          "iopub.status.idle": "2023-01-22T17:34:05.698497Z",
          "shell.execute_reply": "2023-01-22T17:34:05.697533Z"
        },
        "papermill": {
          "duration": 0.040009,
          "end_time": "2023-01-22T17:34:05.700709",
          "exception": false,
          "start_time": "2023-01-22T17:34:05.660700",
          "status": "completed"
        },
        "tags": [],
        "colab": {
          "base_uri": "https://localhost:8080/"
        },
        "id": "5d639b54",
        "outputId": "3ff7d22b-e5bd-42ec-e9e4-646546fe614e"
      },
      "outputs": [
        {
          "output_type": "execute_result",
          "data": {
            "text/plain": [
              "array([2, 1])"
            ]
          },
          "metadata": {},
          "execution_count": 247
        }
      ],
      "source": [
        "dataset['YELLOW_FINGERS'].unique()"
      ]
    },
    {
      "cell_type": "markdown",
      "id": "864e8936",
      "metadata": {
        "papermill": {
          "duration": 0.028363,
          "end_time": "2023-01-22T17:34:05.758199",
          "exception": false,
          "start_time": "2023-01-22T17:34:05.729836",
          "status": "completed"
        },
        "tags": [],
        "id": "864e8936"
      },
      "source": [
        "unique values"
      ]
    },
    {
      "cell_type": "markdown",
      "id": "5d5f2938",
      "metadata": {
        "papermill": {
          "duration": 0.02847,
          "end_time": "2023-01-22T17:34:06.534748",
          "exception": false,
          "start_time": "2023-01-22T17:34:06.506278",
          "status": "completed"
        },
        "tags": [],
        "id": "5d5f2938"
      },
      "source": [
        "# Label encoding categorical variables"
      ]
    },
    {
      "cell_type": "code",
      "execution_count": 249,
      "id": "fcd07c6c",
      "metadata": {
        "execution": {
          "iopub.execute_input": "2023-01-22T17:34:06.595024Z",
          "iopub.status.busy": "2023-01-22T17:34:06.594598Z",
          "iopub.status.idle": "2023-01-22T17:34:06.601079Z",
          "shell.execute_reply": "2023-01-22T17:34:06.600294Z"
        },
        "papermill": {
          "duration": 0.039025,
          "end_time": "2023-01-22T17:34:06.603282",
          "exception": false,
          "start_time": "2023-01-22T17:34:06.564257",
          "status": "completed"
        },
        "tags": [],
        "id": "fcd07c6c"
      },
      "outputs": [],
      "source": [
        "le = preprocessing.LabelEncoder()\n",
        "dataset['GENDER'] = le.fit_transform(dataset['GENDER'])\n",
        "dataset['LUNG_CANCER'] = le.fit_transform(dataset['LUNG_CANCER'])"
      ]
    },
    {
      "cell_type": "markdown",
      "id": "115e910f",
      "metadata": {
        "papermill": {
          "duration": 0.028381,
          "end_time": "2023-01-22T17:34:06.660439",
          "exception": false,
          "start_time": "2023-01-22T17:34:06.632058",
          "status": "completed"
        },
        "tags": [],
        "id": "115e910f"
      },
      "source": [
        "#GENDER 1 = Male 0 = Female LUNG CANCER 1 = YES 0 = NO"
      ]
    },
    {
      "cell_type": "code",
      "execution_count": 250,
      "id": "2fbf8fcc",
      "metadata": {
        "execution": {
          "iopub.execute_input": "2023-01-22T17:34:06.720588Z",
          "iopub.status.busy": "2023-01-22T17:34:06.719912Z",
          "iopub.status.idle": "2023-01-22T17:34:06.727374Z",
          "shell.execute_reply": "2023-01-22T17:34:06.726597Z"
        },
        "papermill": {
          "duration": 0.039884,
          "end_time": "2023-01-22T17:34:06.729359",
          "exception": false,
          "start_time": "2023-01-22T17:34:06.689475",
          "status": "completed"
        },
        "tags": [],
        "colab": {
          "base_uri": "https://localhost:8080/"
        },
        "id": "2fbf8fcc",
        "outputId": "c3011f2d-5115-4393-de5e-c9fe490b82b0"
      },
      "outputs": [
        {
          "output_type": "execute_result",
          "data": {
            "text/plain": [
              "0      1\n",
              "1      1\n",
              "2      0\n",
              "3      1\n",
              "4      0\n",
              "      ..\n",
              "304    0\n",
              "305    1\n",
              "306    1\n",
              "307    1\n",
              "308    1\n",
              "Name: GENDER, Length: 309, dtype: int64"
            ]
          },
          "metadata": {},
          "execution_count": 250
        }
      ],
      "source": [
        "dataset['GENDER']"
      ]
    },
    {
      "cell_type": "code",
      "execution_count": 251,
      "id": "9fcd3ca8",
      "metadata": {
        "execution": {
          "iopub.execute_input": "2023-01-22T17:34:06.789008Z",
          "iopub.status.busy": "2023-01-22T17:34:06.788594Z",
          "iopub.status.idle": "2023-01-22T17:34:06.796330Z",
          "shell.execute_reply": "2023-01-22T17:34:06.795577Z"
        },
        "papermill": {
          "duration": 0.040357,
          "end_time": "2023-01-22T17:34:06.798571",
          "exception": false,
          "start_time": "2023-01-22T17:34:06.758214",
          "status": "completed"
        },
        "tags": [],
        "colab": {
          "base_uri": "https://localhost:8080/"
        },
        "id": "9fcd3ca8",
        "outputId": "aa09130d-73e1-442c-8938-dfdee1f9e1f1"
      },
      "outputs": [
        {
          "output_type": "execute_result",
          "data": {
            "text/plain": [
              "0      1\n",
              "1      1\n",
              "2      0\n",
              "3      0\n",
              "4      0\n",
              "      ..\n",
              "304    1\n",
              "305    1\n",
              "306    1\n",
              "307    1\n",
              "308    1\n",
              "Name: LUNG_CANCER, Length: 309, dtype: int64"
            ]
          },
          "metadata": {},
          "execution_count": 251
        }
      ],
      "source": [
        "dataset['LUNG_CANCER']"
      ]
    },
    {
      "cell_type": "code",
      "execution_count": 252,
      "id": "597a0746",
      "metadata": {
        "execution": {
          "iopub.execute_input": "2023-01-22T17:34:06.859441Z",
          "iopub.status.busy": "2023-01-22T17:34:06.858662Z",
          "iopub.status.idle": "2023-01-22T17:34:06.877435Z",
          "shell.execute_reply": "2023-01-22T17:34:06.876239Z"
        },
        "papermill": {
          "duration": 0.051581,
          "end_time": "2023-01-22T17:34:06.879784",
          "exception": false,
          "start_time": "2023-01-22T17:34:06.828203",
          "status": "completed"
        },
        "tags": [],
        "colab": {
          "base_uri": "https://localhost:8080/",
          "height": 485
        },
        "id": "597a0746",
        "outputId": "d91adbb4-45f8-4c9c-ca6c-fb47bb9fe623"
      },
      "outputs": [
        {
          "output_type": "execute_result",
          "data": {
            "text/plain": [
              "     GENDER  AGE  SMOKING  YELLOW_FINGERS  ANXIETY  PEER_PRESSURE  \\\n",
              "0         1   69        1               2        2              1   \n",
              "1         1   74        2               1        1              1   \n",
              "2         0   59        1               1        1              2   \n",
              "3         1   63        2               2        2              1   \n",
              "4         0   63        1               2        1              1   \n",
              "..      ...  ...      ...             ...      ...            ...   \n",
              "304       0   56        1               1        1              2   \n",
              "305       1   70        2               1        1              1   \n",
              "306       1   58        2               1        1              1   \n",
              "307       1   67        2               1        2              1   \n",
              "308       1   62        1               1        1              2   \n",
              "\n",
              "     CHRONIC DISEASE  FATIGUE   ALLERGY   WHEEZING  ALCOHOL CONSUMING  \\\n",
              "0                  1         2         1         2                  2   \n",
              "1                  2         2         2         1                  1   \n",
              "2                  1         2         1         2                  1   \n",
              "3                  1         1         1         1                  2   \n",
              "4                  1         1         1         2                  1   \n",
              "..               ...       ...       ...       ...                ...   \n",
              "304                2         2         1         1                  2   \n",
              "305                1         2         2         2                  2   \n",
              "306                1         1         2         2                  2   \n",
              "307                1         2         2         1                  2   \n",
              "308                1         2         2         2                  2   \n",
              "\n",
              "     COUGHING  SHORTNESS OF BREATH  SWALLOWING DIFFICULTY  CHEST PAIN  \\\n",
              "0           2                    2                      2           2   \n",
              "1           1                    2                      2           2   \n",
              "2           2                    2                      1           2   \n",
              "3           1                    1                      2           2   \n",
              "4           2                    2                      1           1   \n",
              "..        ...                  ...                    ...         ...   \n",
              "304         2                    2                      2           1   \n",
              "305         2                    2                      1           2   \n",
              "306         2                    1                      1           2   \n",
              "307         2                    2                      1           2   \n",
              "308         1                    1                      2           1   \n",
              "\n",
              "     LUNG_CANCER  \n",
              "0              1  \n",
              "1              1  \n",
              "2              0  \n",
              "3              0  \n",
              "4              0  \n",
              "..           ...  \n",
              "304            1  \n",
              "305            1  \n",
              "306            1  \n",
              "307            1  \n",
              "308            1  \n",
              "\n",
              "[309 rows x 16 columns]"
            ],
            "text/html": [
              "\n",
              "  <div id=\"df-8d694d02-3adb-4ac1-8832-ea8f28681249\">\n",
              "    <div class=\"colab-df-container\">\n",
              "      <div>\n",
              "<style scoped>\n",
              "    .dataframe tbody tr th:only-of-type {\n",
              "        vertical-align: middle;\n",
              "    }\n",
              "\n",
              "    .dataframe tbody tr th {\n",
              "        vertical-align: top;\n",
              "    }\n",
              "\n",
              "    .dataframe thead th {\n",
              "        text-align: right;\n",
              "    }\n",
              "</style>\n",
              "<table border=\"1\" class=\"dataframe\">\n",
              "  <thead>\n",
              "    <tr style=\"text-align: right;\">\n",
              "      <th></th>\n",
              "      <th>GENDER</th>\n",
              "      <th>AGE</th>\n",
              "      <th>SMOKING</th>\n",
              "      <th>YELLOW_FINGERS</th>\n",
              "      <th>ANXIETY</th>\n",
              "      <th>PEER_PRESSURE</th>\n",
              "      <th>CHRONIC DISEASE</th>\n",
              "      <th>FATIGUE</th>\n",
              "      <th>ALLERGY</th>\n",
              "      <th>WHEEZING</th>\n",
              "      <th>ALCOHOL CONSUMING</th>\n",
              "      <th>COUGHING</th>\n",
              "      <th>SHORTNESS OF BREATH</th>\n",
              "      <th>SWALLOWING DIFFICULTY</th>\n",
              "      <th>CHEST PAIN</th>\n",
              "      <th>LUNG_CANCER</th>\n",
              "    </tr>\n",
              "  </thead>\n",
              "  <tbody>\n",
              "    <tr>\n",
              "      <th>0</th>\n",
              "      <td>1</td>\n",
              "      <td>69</td>\n",
              "      <td>1</td>\n",
              "      <td>2</td>\n",
              "      <td>2</td>\n",
              "      <td>1</td>\n",
              "      <td>1</td>\n",
              "      <td>2</td>\n",
              "      <td>1</td>\n",
              "      <td>2</td>\n",
              "      <td>2</td>\n",
              "      <td>2</td>\n",
              "      <td>2</td>\n",
              "      <td>2</td>\n",
              "      <td>2</td>\n",
              "      <td>1</td>\n",
              "    </tr>\n",
              "    <tr>\n",
              "      <th>1</th>\n",
              "      <td>1</td>\n",
              "      <td>74</td>\n",
              "      <td>2</td>\n",
              "      <td>1</td>\n",
              "      <td>1</td>\n",
              "      <td>1</td>\n",
              "      <td>2</td>\n",
              "      <td>2</td>\n",
              "      <td>2</td>\n",
              "      <td>1</td>\n",
              "      <td>1</td>\n",
              "      <td>1</td>\n",
              "      <td>2</td>\n",
              "      <td>2</td>\n",
              "      <td>2</td>\n",
              "      <td>1</td>\n",
              "    </tr>\n",
              "    <tr>\n",
              "      <th>2</th>\n",
              "      <td>0</td>\n",
              "      <td>59</td>\n",
              "      <td>1</td>\n",
              "      <td>1</td>\n",
              "      <td>1</td>\n",
              "      <td>2</td>\n",
              "      <td>1</td>\n",
              "      <td>2</td>\n",
              "      <td>1</td>\n",
              "      <td>2</td>\n",
              "      <td>1</td>\n",
              "      <td>2</td>\n",
              "      <td>2</td>\n",
              "      <td>1</td>\n",
              "      <td>2</td>\n",
              "      <td>0</td>\n",
              "    </tr>\n",
              "    <tr>\n",
              "      <th>3</th>\n",
              "      <td>1</td>\n",
              "      <td>63</td>\n",
              "      <td>2</td>\n",
              "      <td>2</td>\n",
              "      <td>2</td>\n",
              "      <td>1</td>\n",
              "      <td>1</td>\n",
              "      <td>1</td>\n",
              "      <td>1</td>\n",
              "      <td>1</td>\n",
              "      <td>2</td>\n",
              "      <td>1</td>\n",
              "      <td>1</td>\n",
              "      <td>2</td>\n",
              "      <td>2</td>\n",
              "      <td>0</td>\n",
              "    </tr>\n",
              "    <tr>\n",
              "      <th>4</th>\n",
              "      <td>0</td>\n",
              "      <td>63</td>\n",
              "      <td>1</td>\n",
              "      <td>2</td>\n",
              "      <td>1</td>\n",
              "      <td>1</td>\n",
              "      <td>1</td>\n",
              "      <td>1</td>\n",
              "      <td>1</td>\n",
              "      <td>2</td>\n",
              "      <td>1</td>\n",
              "      <td>2</td>\n",
              "      <td>2</td>\n",
              "      <td>1</td>\n",
              "      <td>1</td>\n",
              "      <td>0</td>\n",
              "    </tr>\n",
              "    <tr>\n",
              "      <th>...</th>\n",
              "      <td>...</td>\n",
              "      <td>...</td>\n",
              "      <td>...</td>\n",
              "      <td>...</td>\n",
              "      <td>...</td>\n",
              "      <td>...</td>\n",
              "      <td>...</td>\n",
              "      <td>...</td>\n",
              "      <td>...</td>\n",
              "      <td>...</td>\n",
              "      <td>...</td>\n",
              "      <td>...</td>\n",
              "      <td>...</td>\n",
              "      <td>...</td>\n",
              "      <td>...</td>\n",
              "      <td>...</td>\n",
              "    </tr>\n",
              "    <tr>\n",
              "      <th>304</th>\n",
              "      <td>0</td>\n",
              "      <td>56</td>\n",
              "      <td>1</td>\n",
              "      <td>1</td>\n",
              "      <td>1</td>\n",
              "      <td>2</td>\n",
              "      <td>2</td>\n",
              "      <td>2</td>\n",
              "      <td>1</td>\n",
              "      <td>1</td>\n",
              "      <td>2</td>\n",
              "      <td>2</td>\n",
              "      <td>2</td>\n",
              "      <td>2</td>\n",
              "      <td>1</td>\n",
              "      <td>1</td>\n",
              "    </tr>\n",
              "    <tr>\n",
              "      <th>305</th>\n",
              "      <td>1</td>\n",
              "      <td>70</td>\n",
              "      <td>2</td>\n",
              "      <td>1</td>\n",
              "      <td>1</td>\n",
              "      <td>1</td>\n",
              "      <td>1</td>\n",
              "      <td>2</td>\n",
              "      <td>2</td>\n",
              "      <td>2</td>\n",
              "      <td>2</td>\n",
              "      <td>2</td>\n",
              "      <td>2</td>\n",
              "      <td>1</td>\n",
              "      <td>2</td>\n",
              "      <td>1</td>\n",
              "    </tr>\n",
              "    <tr>\n",
              "      <th>306</th>\n",
              "      <td>1</td>\n",
              "      <td>58</td>\n",
              "      <td>2</td>\n",
              "      <td>1</td>\n",
              "      <td>1</td>\n",
              "      <td>1</td>\n",
              "      <td>1</td>\n",
              "      <td>1</td>\n",
              "      <td>2</td>\n",
              "      <td>2</td>\n",
              "      <td>2</td>\n",
              "      <td>2</td>\n",
              "      <td>1</td>\n",
              "      <td>1</td>\n",
              "      <td>2</td>\n",
              "      <td>1</td>\n",
              "    </tr>\n",
              "    <tr>\n",
              "      <th>307</th>\n",
              "      <td>1</td>\n",
              "      <td>67</td>\n",
              "      <td>2</td>\n",
              "      <td>1</td>\n",
              "      <td>2</td>\n",
              "      <td>1</td>\n",
              "      <td>1</td>\n",
              "      <td>2</td>\n",
              "      <td>2</td>\n",
              "      <td>1</td>\n",
              "      <td>2</td>\n",
              "      <td>2</td>\n",
              "      <td>2</td>\n",
              "      <td>1</td>\n",
              "      <td>2</td>\n",
              "      <td>1</td>\n",
              "    </tr>\n",
              "    <tr>\n",
              "      <th>308</th>\n",
              "      <td>1</td>\n",
              "      <td>62</td>\n",
              "      <td>1</td>\n",
              "      <td>1</td>\n",
              "      <td>1</td>\n",
              "      <td>2</td>\n",
              "      <td>1</td>\n",
              "      <td>2</td>\n",
              "      <td>2</td>\n",
              "      <td>2</td>\n",
              "      <td>2</td>\n",
              "      <td>1</td>\n",
              "      <td>1</td>\n",
              "      <td>2</td>\n",
              "      <td>1</td>\n",
              "      <td>1</td>\n",
              "    </tr>\n",
              "  </tbody>\n",
              "</table>\n",
              "<p>309 rows × 16 columns</p>\n",
              "</div>\n",
              "      <button class=\"colab-df-convert\" onclick=\"convertToInteractive('df-8d694d02-3adb-4ac1-8832-ea8f28681249')\"\n",
              "              title=\"Convert this dataframe to an interactive table.\"\n",
              "              style=\"display:none;\">\n",
              "        \n",
              "  <svg xmlns=\"http://www.w3.org/2000/svg\" height=\"24px\"viewBox=\"0 0 24 24\"\n",
              "       width=\"24px\">\n",
              "    <path d=\"M0 0h24v24H0V0z\" fill=\"none\"/>\n",
              "    <path d=\"M18.56 5.44l.94 2.06.94-2.06 2.06-.94-2.06-.94-.94-2.06-.94 2.06-2.06.94zm-11 1L8.5 8.5l.94-2.06 2.06-.94-2.06-.94L8.5 2.5l-.94 2.06-2.06.94zm10 10l.94 2.06.94-2.06 2.06-.94-2.06-.94-.94-2.06-.94 2.06-2.06.94z\"/><path d=\"M17.41 7.96l-1.37-1.37c-.4-.4-.92-.59-1.43-.59-.52 0-1.04.2-1.43.59L10.3 9.45l-7.72 7.72c-.78.78-.78 2.05 0 2.83L4 21.41c.39.39.9.59 1.41.59.51 0 1.02-.2 1.41-.59l7.78-7.78 2.81-2.81c.8-.78.8-2.07 0-2.86zM5.41 20L4 18.59l7.72-7.72 1.47 1.35L5.41 20z\"/>\n",
              "  </svg>\n",
              "      </button>\n",
              "      \n",
              "  <style>\n",
              "    .colab-df-container {\n",
              "      display:flex;\n",
              "      flex-wrap:wrap;\n",
              "      gap: 12px;\n",
              "    }\n",
              "\n",
              "    .colab-df-convert {\n",
              "      background-color: #E8F0FE;\n",
              "      border: none;\n",
              "      border-radius: 50%;\n",
              "      cursor: pointer;\n",
              "      display: none;\n",
              "      fill: #1967D2;\n",
              "      height: 32px;\n",
              "      padding: 0 0 0 0;\n",
              "      width: 32px;\n",
              "    }\n",
              "\n",
              "    .colab-df-convert:hover {\n",
              "      background-color: #E2EBFA;\n",
              "      box-shadow: 0px 1px 2px rgba(60, 64, 67, 0.3), 0px 1px 3px 1px rgba(60, 64, 67, 0.15);\n",
              "      fill: #174EA6;\n",
              "    }\n",
              "\n",
              "    [theme=dark] .colab-df-convert {\n",
              "      background-color: #3B4455;\n",
              "      fill: #D2E3FC;\n",
              "    }\n",
              "\n",
              "    [theme=dark] .colab-df-convert:hover {\n",
              "      background-color: #434B5C;\n",
              "      box-shadow: 0px 1px 3px 1px rgba(0, 0, 0, 0.15);\n",
              "      filter: drop-shadow(0px 1px 2px rgba(0, 0, 0, 0.3));\n",
              "      fill: #FFFFFF;\n",
              "    }\n",
              "  </style>\n",
              "\n",
              "      <script>\n",
              "        const buttonEl =\n",
              "          document.querySelector('#df-8d694d02-3adb-4ac1-8832-ea8f28681249 button.colab-df-convert');\n",
              "        buttonEl.style.display =\n",
              "          google.colab.kernel.accessAllowed ? 'block' : 'none';\n",
              "\n",
              "        async function convertToInteractive(key) {\n",
              "          const element = document.querySelector('#df-8d694d02-3adb-4ac1-8832-ea8f28681249');\n",
              "          const dataTable =\n",
              "            await google.colab.kernel.invokeFunction('convertToInteractive',\n",
              "                                                     [key], {});\n",
              "          if (!dataTable) return;\n",
              "\n",
              "          const docLinkHtml = 'Like what you see? Visit the ' +\n",
              "            '<a target=\"_blank\" href=https://colab.research.google.com/notebooks/data_table.ipynb>data table notebook</a>'\n",
              "            + ' to learn more about interactive tables.';\n",
              "          element.innerHTML = '';\n",
              "          dataTable['output_type'] = 'display_data';\n",
              "          await google.colab.output.renderOutput(dataTable, element);\n",
              "          const docLink = document.createElement('div');\n",
              "          docLink.innerHTML = docLinkHtml;\n",
              "          element.appendChild(docLink);\n",
              "        }\n",
              "      </script>\n",
              "    </div>\n",
              "  </div>\n",
              "  "
            ]
          },
          "metadata": {},
          "execution_count": 252
        }
      ],
      "source": [
        "dataset"
      ]
    },
    {
      "cell_type": "code",
      "execution_count": 253,
      "id": "7169e0bb",
      "metadata": {
        "execution": {
          "iopub.execute_input": "2023-01-22T17:34:06.942839Z",
          "iopub.status.busy": "2023-01-22T17:34:06.942416Z",
          "iopub.status.idle": "2023-01-22T17:34:06.952106Z",
          "shell.execute_reply": "2023-01-22T17:34:06.950565Z"
        },
        "papermill": {
          "duration": 0.044494,
          "end_time": "2023-01-22T17:34:06.954864",
          "exception": false,
          "start_time": "2023-01-22T17:34:06.910370",
          "status": "completed"
        },
        "tags": [],
        "colab": {
          "base_uri": "https://localhost:8080/"
        },
        "id": "7169e0bb",
        "outputId": "41c814da-b5aa-4b57-f28f-0eaf6c236bfb"
      },
      "outputs": [
        {
          "output_type": "stream",
          "name": "stdout",
          "text": [
            "LUNG_CANCER              1.000000\n",
            "ALLERGY                  0.327766\n",
            "ALCOHOL CONSUMING        0.288533\n",
            "SWALLOWING DIFFICULTY    0.259730\n",
            "WHEEZING                 0.249300\n",
            "COUGHING                 0.248570\n",
            "CHEST PAIN               0.190451\n",
            "PEER_PRESSURE            0.186388\n",
            "YELLOW_FINGERS           0.181339\n",
            "FATIGUE                  0.150673\n",
            "ANXIETY                  0.144947\n",
            "CHRONIC DISEASE          0.110891\n",
            "AGE                      0.089465\n",
            "GENDER                   0.067254\n",
            "SHORTNESS OF BREATH      0.060738\n",
            "SMOKING                  0.058179\n",
            "Name: LUNG_CANCER, dtype: float64\n"
          ]
        }
      ],
      "source": [
        "print(dataset.corr()[\"LUNG_CANCER\"].abs().sort_values(ascending=False))"
      ]
    },
    {
      "cell_type": "markdown",
      "id": "9e920c1d",
      "metadata": {
        "papermill": {
          "duration": 0.030222,
          "end_time": "2023-01-22T17:34:07.016275",
          "exception": false,
          "start_time": "2023-01-22T17:34:06.986053",
          "status": "completed"
        },
        "tags": [],
        "id": "9e920c1d"
      },
      "source": [
        "# Feature Selection based on correlation"
      ]
    },
    {
      "cell_type": "code",
      "execution_count": 254,
      "id": "4644b184",
      "metadata": {
        "execution": {
          "iopub.execute_input": "2023-01-22T17:34:07.079746Z",
          "iopub.status.busy": "2023-01-22T17:34:07.078574Z",
          "iopub.status.idle": "2023-01-22T17:34:07.084882Z",
          "shell.execute_reply": "2023-01-22T17:34:07.084028Z"
        },
        "papermill": {
          "duration": 0.040121,
          "end_time": "2023-01-22T17:34:07.086893",
          "exception": false,
          "start_time": "2023-01-22T17:34:07.046772",
          "status": "completed"
        },
        "tags": [],
        "id": "4644b184"
      },
      "outputs": [],
      "source": [
        "X = dataset.drop(['AGE','GENDER','SHORTNESS OF BREATH','SMOKING','LUNG_CANCER'],axis=1)"
      ]
    },
    {
      "cell_type": "code",
      "execution_count": 255,
      "id": "22a3d9aa",
      "metadata": {
        "execution": {
          "iopub.execute_input": "2023-01-22T17:34:07.150084Z",
          "iopub.status.busy": "2023-01-22T17:34:07.149648Z",
          "iopub.status.idle": "2023-01-22T17:34:07.165603Z",
          "shell.execute_reply": "2023-01-22T17:34:07.164407Z"
        },
        "papermill": {
          "duration": 0.050571,
          "end_time": "2023-01-22T17:34:07.168001",
          "exception": false,
          "start_time": "2023-01-22T17:34:07.117430",
          "status": "completed"
        },
        "tags": [],
        "colab": {
          "base_uri": "https://localhost:8080/",
          "height": 423
        },
        "id": "22a3d9aa",
        "outputId": "56e0eb5e-e149-4319-f75d-d4d94b4325b2"
      },
      "outputs": [
        {
          "output_type": "execute_result",
          "data": {
            "text/plain": [
              "     YELLOW_FINGERS  ANXIETY  PEER_PRESSURE  CHRONIC DISEASE  FATIGUE   \\\n",
              "0                 2        2              1                1         2   \n",
              "1                 1        1              1                2         2   \n",
              "2                 1        1              2                1         2   \n",
              "3                 2        2              1                1         1   \n",
              "4                 2        1              1                1         1   \n",
              "..              ...      ...            ...              ...       ...   \n",
              "304               1        1              2                2         2   \n",
              "305               1        1              1                1         2   \n",
              "306               1        1              1                1         1   \n",
              "307               1        2              1                1         2   \n",
              "308               1        1              2                1         2   \n",
              "\n",
              "     ALLERGY   WHEEZING  ALCOHOL CONSUMING  COUGHING  SWALLOWING DIFFICULTY  \\\n",
              "0           1         2                  2         2                      2   \n",
              "1           2         1                  1         1                      2   \n",
              "2           1         2                  1         2                      1   \n",
              "3           1         1                  2         1                      2   \n",
              "4           1         2                  1         2                      1   \n",
              "..        ...       ...                ...       ...                    ...   \n",
              "304         1         1                  2         2                      2   \n",
              "305         2         2                  2         2                      1   \n",
              "306         2         2                  2         2                      1   \n",
              "307         2         1                  2         2                      1   \n",
              "308         2         2                  2         1                      2   \n",
              "\n",
              "     CHEST PAIN  \n",
              "0             2  \n",
              "1             2  \n",
              "2             2  \n",
              "3             2  \n",
              "4             1  \n",
              "..          ...  \n",
              "304           1  \n",
              "305           2  \n",
              "306           2  \n",
              "307           2  \n",
              "308           1  \n",
              "\n",
              "[309 rows x 11 columns]"
            ],
            "text/html": [
              "\n",
              "  <div id=\"df-fef1e89e-8577-4e0f-bd7a-1655383d0a87\">\n",
              "    <div class=\"colab-df-container\">\n",
              "      <div>\n",
              "<style scoped>\n",
              "    .dataframe tbody tr th:only-of-type {\n",
              "        vertical-align: middle;\n",
              "    }\n",
              "\n",
              "    .dataframe tbody tr th {\n",
              "        vertical-align: top;\n",
              "    }\n",
              "\n",
              "    .dataframe thead th {\n",
              "        text-align: right;\n",
              "    }\n",
              "</style>\n",
              "<table border=\"1\" class=\"dataframe\">\n",
              "  <thead>\n",
              "    <tr style=\"text-align: right;\">\n",
              "      <th></th>\n",
              "      <th>YELLOW_FINGERS</th>\n",
              "      <th>ANXIETY</th>\n",
              "      <th>PEER_PRESSURE</th>\n",
              "      <th>CHRONIC DISEASE</th>\n",
              "      <th>FATIGUE</th>\n",
              "      <th>ALLERGY</th>\n",
              "      <th>WHEEZING</th>\n",
              "      <th>ALCOHOL CONSUMING</th>\n",
              "      <th>COUGHING</th>\n",
              "      <th>SWALLOWING DIFFICULTY</th>\n",
              "      <th>CHEST PAIN</th>\n",
              "    </tr>\n",
              "  </thead>\n",
              "  <tbody>\n",
              "    <tr>\n",
              "      <th>0</th>\n",
              "      <td>2</td>\n",
              "      <td>2</td>\n",
              "      <td>1</td>\n",
              "      <td>1</td>\n",
              "      <td>2</td>\n",
              "      <td>1</td>\n",
              "      <td>2</td>\n",
              "      <td>2</td>\n",
              "      <td>2</td>\n",
              "      <td>2</td>\n",
              "      <td>2</td>\n",
              "    </tr>\n",
              "    <tr>\n",
              "      <th>1</th>\n",
              "      <td>1</td>\n",
              "      <td>1</td>\n",
              "      <td>1</td>\n",
              "      <td>2</td>\n",
              "      <td>2</td>\n",
              "      <td>2</td>\n",
              "      <td>1</td>\n",
              "      <td>1</td>\n",
              "      <td>1</td>\n",
              "      <td>2</td>\n",
              "      <td>2</td>\n",
              "    </tr>\n",
              "    <tr>\n",
              "      <th>2</th>\n",
              "      <td>1</td>\n",
              "      <td>1</td>\n",
              "      <td>2</td>\n",
              "      <td>1</td>\n",
              "      <td>2</td>\n",
              "      <td>1</td>\n",
              "      <td>2</td>\n",
              "      <td>1</td>\n",
              "      <td>2</td>\n",
              "      <td>1</td>\n",
              "      <td>2</td>\n",
              "    </tr>\n",
              "    <tr>\n",
              "      <th>3</th>\n",
              "      <td>2</td>\n",
              "      <td>2</td>\n",
              "      <td>1</td>\n",
              "      <td>1</td>\n",
              "      <td>1</td>\n",
              "      <td>1</td>\n",
              "      <td>1</td>\n",
              "      <td>2</td>\n",
              "      <td>1</td>\n",
              "      <td>2</td>\n",
              "      <td>2</td>\n",
              "    </tr>\n",
              "    <tr>\n",
              "      <th>4</th>\n",
              "      <td>2</td>\n",
              "      <td>1</td>\n",
              "      <td>1</td>\n",
              "      <td>1</td>\n",
              "      <td>1</td>\n",
              "      <td>1</td>\n",
              "      <td>2</td>\n",
              "      <td>1</td>\n",
              "      <td>2</td>\n",
              "      <td>1</td>\n",
              "      <td>1</td>\n",
              "    </tr>\n",
              "    <tr>\n",
              "      <th>...</th>\n",
              "      <td>...</td>\n",
              "      <td>...</td>\n",
              "      <td>...</td>\n",
              "      <td>...</td>\n",
              "      <td>...</td>\n",
              "      <td>...</td>\n",
              "      <td>...</td>\n",
              "      <td>...</td>\n",
              "      <td>...</td>\n",
              "      <td>...</td>\n",
              "      <td>...</td>\n",
              "    </tr>\n",
              "    <tr>\n",
              "      <th>304</th>\n",
              "      <td>1</td>\n",
              "      <td>1</td>\n",
              "      <td>2</td>\n",
              "      <td>2</td>\n",
              "      <td>2</td>\n",
              "      <td>1</td>\n",
              "      <td>1</td>\n",
              "      <td>2</td>\n",
              "      <td>2</td>\n",
              "      <td>2</td>\n",
              "      <td>1</td>\n",
              "    </tr>\n",
              "    <tr>\n",
              "      <th>305</th>\n",
              "      <td>1</td>\n",
              "      <td>1</td>\n",
              "      <td>1</td>\n",
              "      <td>1</td>\n",
              "      <td>2</td>\n",
              "      <td>2</td>\n",
              "      <td>2</td>\n",
              "      <td>2</td>\n",
              "      <td>2</td>\n",
              "      <td>1</td>\n",
              "      <td>2</td>\n",
              "    </tr>\n",
              "    <tr>\n",
              "      <th>306</th>\n",
              "      <td>1</td>\n",
              "      <td>1</td>\n",
              "      <td>1</td>\n",
              "      <td>1</td>\n",
              "      <td>1</td>\n",
              "      <td>2</td>\n",
              "      <td>2</td>\n",
              "      <td>2</td>\n",
              "      <td>2</td>\n",
              "      <td>1</td>\n",
              "      <td>2</td>\n",
              "    </tr>\n",
              "    <tr>\n",
              "      <th>307</th>\n",
              "      <td>1</td>\n",
              "      <td>2</td>\n",
              "      <td>1</td>\n",
              "      <td>1</td>\n",
              "      <td>2</td>\n",
              "      <td>2</td>\n",
              "      <td>1</td>\n",
              "      <td>2</td>\n",
              "      <td>2</td>\n",
              "      <td>1</td>\n",
              "      <td>2</td>\n",
              "    </tr>\n",
              "    <tr>\n",
              "      <th>308</th>\n",
              "      <td>1</td>\n",
              "      <td>1</td>\n",
              "      <td>2</td>\n",
              "      <td>1</td>\n",
              "      <td>2</td>\n",
              "      <td>2</td>\n",
              "      <td>2</td>\n",
              "      <td>2</td>\n",
              "      <td>1</td>\n",
              "      <td>2</td>\n",
              "      <td>1</td>\n",
              "    </tr>\n",
              "  </tbody>\n",
              "</table>\n",
              "<p>309 rows × 11 columns</p>\n",
              "</div>\n",
              "      <button class=\"colab-df-convert\" onclick=\"convertToInteractive('df-fef1e89e-8577-4e0f-bd7a-1655383d0a87')\"\n",
              "              title=\"Convert this dataframe to an interactive table.\"\n",
              "              style=\"display:none;\">\n",
              "        \n",
              "  <svg xmlns=\"http://www.w3.org/2000/svg\" height=\"24px\"viewBox=\"0 0 24 24\"\n",
              "       width=\"24px\">\n",
              "    <path d=\"M0 0h24v24H0V0z\" fill=\"none\"/>\n",
              "    <path d=\"M18.56 5.44l.94 2.06.94-2.06 2.06-.94-2.06-.94-.94-2.06-.94 2.06-2.06.94zm-11 1L8.5 8.5l.94-2.06 2.06-.94-2.06-.94L8.5 2.5l-.94 2.06-2.06.94zm10 10l.94 2.06.94-2.06 2.06-.94-2.06-.94-.94-2.06-.94 2.06-2.06.94z\"/><path d=\"M17.41 7.96l-1.37-1.37c-.4-.4-.92-.59-1.43-.59-.52 0-1.04.2-1.43.59L10.3 9.45l-7.72 7.72c-.78.78-.78 2.05 0 2.83L4 21.41c.39.39.9.59 1.41.59.51 0 1.02-.2 1.41-.59l7.78-7.78 2.81-2.81c.8-.78.8-2.07 0-2.86zM5.41 20L4 18.59l7.72-7.72 1.47 1.35L5.41 20z\"/>\n",
              "  </svg>\n",
              "      </button>\n",
              "      \n",
              "  <style>\n",
              "    .colab-df-container {\n",
              "      display:flex;\n",
              "      flex-wrap:wrap;\n",
              "      gap: 12px;\n",
              "    }\n",
              "\n",
              "    .colab-df-convert {\n",
              "      background-color: #E8F0FE;\n",
              "      border: none;\n",
              "      border-radius: 50%;\n",
              "      cursor: pointer;\n",
              "      display: none;\n",
              "      fill: #1967D2;\n",
              "      height: 32px;\n",
              "      padding: 0 0 0 0;\n",
              "      width: 32px;\n",
              "    }\n",
              "\n",
              "    .colab-df-convert:hover {\n",
              "      background-color: #E2EBFA;\n",
              "      box-shadow: 0px 1px 2px rgba(60, 64, 67, 0.3), 0px 1px 3px 1px rgba(60, 64, 67, 0.15);\n",
              "      fill: #174EA6;\n",
              "    }\n",
              "\n",
              "    [theme=dark] .colab-df-convert {\n",
              "      background-color: #3B4455;\n",
              "      fill: #D2E3FC;\n",
              "    }\n",
              "\n",
              "    [theme=dark] .colab-df-convert:hover {\n",
              "      background-color: #434B5C;\n",
              "      box-shadow: 0px 1px 3px 1px rgba(0, 0, 0, 0.15);\n",
              "      filter: drop-shadow(0px 1px 2px rgba(0, 0, 0, 0.3));\n",
              "      fill: #FFFFFF;\n",
              "    }\n",
              "  </style>\n",
              "\n",
              "      <script>\n",
              "        const buttonEl =\n",
              "          document.querySelector('#df-fef1e89e-8577-4e0f-bd7a-1655383d0a87 button.colab-df-convert');\n",
              "        buttonEl.style.display =\n",
              "          google.colab.kernel.accessAllowed ? 'block' : 'none';\n",
              "\n",
              "        async function convertToInteractive(key) {\n",
              "          const element = document.querySelector('#df-fef1e89e-8577-4e0f-bd7a-1655383d0a87');\n",
              "          const dataTable =\n",
              "            await google.colab.kernel.invokeFunction('convertToInteractive',\n",
              "                                                     [key], {});\n",
              "          if (!dataTable) return;\n",
              "\n",
              "          const docLinkHtml = 'Like what you see? Visit the ' +\n",
              "            '<a target=\"_blank\" href=https://colab.research.google.com/notebooks/data_table.ipynb>data table notebook</a>'\n",
              "            + ' to learn more about interactive tables.';\n",
              "          element.innerHTML = '';\n",
              "          dataTable['output_type'] = 'display_data';\n",
              "          await google.colab.output.renderOutput(dataTable, element);\n",
              "          const docLink = document.createElement('div');\n",
              "          docLink.innerHTML = docLinkHtml;\n",
              "          element.appendChild(docLink);\n",
              "        }\n",
              "      </script>\n",
              "    </div>\n",
              "  </div>\n",
              "  "
            ]
          },
          "metadata": {},
          "execution_count": 255
        }
      ],
      "source": [
        "X"
      ]
    },
    {
      "cell_type": "code",
      "execution_count": 256,
      "id": "661ef402",
      "metadata": {
        "execution": {
          "iopub.execute_input": "2023-01-22T17:34:07.233102Z",
          "iopub.status.busy": "2023-01-22T17:34:07.232389Z",
          "iopub.status.idle": "2023-01-22T17:34:07.237015Z",
          "shell.execute_reply": "2023-01-22T17:34:07.235957Z"
        },
        "papermill": {
          "duration": 0.039603,
          "end_time": "2023-01-22T17:34:07.239242",
          "exception": false,
          "start_time": "2023-01-22T17:34:07.199639",
          "status": "completed"
        },
        "tags": [],
        "id": "661ef402"
      },
      "outputs": [],
      "source": [
        "y = dataset['LUNG_CANCER']"
      ]
    },
    {
      "cell_type": "code",
      "execution_count": 257,
      "id": "4a874214",
      "metadata": {
        "execution": {
          "iopub.execute_input": "2023-01-22T17:34:07.304574Z",
          "iopub.status.busy": "2023-01-22T17:34:07.303484Z",
          "iopub.status.idle": "2023-01-22T17:34:07.311301Z",
          "shell.execute_reply": "2023-01-22T17:34:07.310517Z"
        },
        "papermill": {
          "duration": 0.042929,
          "end_time": "2023-01-22T17:34:07.313400",
          "exception": false,
          "start_time": "2023-01-22T17:34:07.270471",
          "status": "completed"
        },
        "tags": [],
        "colab": {
          "base_uri": "https://localhost:8080/"
        },
        "id": "4a874214",
        "outputId": "99456f4b-325e-412c-8607-a6ec3a9b3f76"
      },
      "outputs": [
        {
          "output_type": "execute_result",
          "data": {
            "text/plain": [
              "0      1\n",
              "1      1\n",
              "2      0\n",
              "3      0\n",
              "4      0\n",
              "      ..\n",
              "304    1\n",
              "305    1\n",
              "306    1\n",
              "307    1\n",
              "308    1\n",
              "Name: LUNG_CANCER, Length: 309, dtype: int64"
            ]
          },
          "metadata": {},
          "execution_count": 257
        }
      ],
      "source": [
        "y"
      ]
    },
    {
      "cell_type": "markdown",
      "id": "8cc38af7",
      "metadata": {
        "papermill": {
          "duration": 0.031331,
          "end_time": "2023-01-22T17:34:07.375900",
          "exception": false,
          "start_time": "2023-01-22T17:34:07.344569",
          "status": "completed"
        },
        "tags": [],
        "id": "8cc38af7"
      },
      "source": [
        "<a id=\"6\"></a>\n",
        "<h1 style=\"background-color:red;font-family:newtimeroman;font-size:250%;text-align:center;border-radius: 10px 10px;\">Model Building</h1>   "
      ]
    },
    {
      "cell_type": "code",
      "execution_count": 258,
      "id": "25fa9591",
      "metadata": {
        "execution": {
          "iopub.execute_input": "2023-01-22T17:34:07.440470Z",
          "iopub.status.busy": "2023-01-22T17:34:07.439697Z",
          "iopub.status.idle": "2023-01-22T17:34:07.446205Z",
          "shell.execute_reply": "2023-01-22T17:34:07.445351Z"
        },
        "papermill": {
          "duration": 0.041601,
          "end_time": "2023-01-22T17:34:07.448672",
          "exception": false,
          "start_time": "2023-01-22T17:34:07.407071",
          "status": "completed"
        },
        "tags": [],
        "id": "25fa9591"
      },
      "outputs": [],
      "source": [
        "X_train, X_test, y_train, y_test = train_test_split(X, y, test_size=0.2, random_state=0)"
      ]
    },
    {
      "cell_type": "markdown",
      "id": "d4e46496",
      "metadata": {
        "papermill": {
          "duration": 0.030676,
          "end_time": "2023-01-22T17:34:07.510503",
          "exception": false,
          "start_time": "2023-01-22T17:34:07.479827",
          "status": "completed"
        },
        "tags": [],
        "id": "d4e46496"
      },
      "source": [
        "- Support Vector Machine\n",
        "- Random Forest Classifier\n",
        "- KNeighborsClassifier\n",
        "- Ann\n",
        "- Voting Classifier\n",
        "- Stacking Classifier\n",
        "- Logistic Regression\n",
        "- Decision Tree\n"
      ]
    },
    {
      "cell_type": "markdown",
      "id": "7cc5c4ca",
      "metadata": {
        "papermill": {
          "duration": 0.031632,
          "end_time": "2023-01-22T17:34:07.880410",
          "exception": false,
          "start_time": "2023-01-22T17:34:07.848778",
          "status": "completed"
        },
        "tags": [],
        "id": "7cc5c4ca"
      },
      "source": [
        "# Random Forest Classifier"
      ]
    },
    {
      "cell_type": "code",
      "execution_count": 259,
      "id": "32aa495e",
      "metadata": {
        "execution": {
          "iopub.execute_input": "2023-01-22T17:34:07.946134Z",
          "iopub.status.busy": "2023-01-22T17:34:07.945006Z",
          "iopub.status.idle": "2023-01-22T17:34:08.239881Z",
          "shell.execute_reply": "2023-01-22T17:34:08.238466Z"
        },
        "papermill": {
          "duration": 0.330735,
          "end_time": "2023-01-22T17:34:08.242443",
          "exception": false,
          "start_time": "2023-01-22T17:34:07.911708",
          "status": "completed"
        },
        "tags": [],
        "colab": {
          "base_uri": "https://localhost:8080/"
        },
        "id": "32aa495e",
        "outputId": "fd0d97f7-cb59-401b-a34b-ffedabd0feca"
      },
      "outputs": [
        {
          "output_type": "stream",
          "name": "stdout",
          "text": [
            "*Accuracy score for RF:  96.7741935483871 \n",
            "\n",
            "*Confusion Matrix for RF: \n",
            "[[ 9  1]\n",
            " [ 1 51]]\n",
            "*Classification Report for RF: \n",
            "              precision    recall  f1-score   support\n",
            "\n",
            "           0       0.90      0.90      0.90        10\n",
            "           1       0.98      0.98      0.98        52\n",
            "\n",
            "    accuracy                           0.97        62\n",
            "   macro avg       0.94      0.94      0.94        62\n",
            "weighted avg       0.97      0.97      0.97        62\n",
            "\n"
          ]
        }
      ],
      "source": [
        "from sklearn.ensemble import RandomForestClassifier\n",
        "RF = RandomForestClassifier(n_estimators=100, random_state=0)\n",
        "RF.fit(X, y)\n",
        "predictions = RF.predict(X_test)\n",
        "val1 = (accuracy_score(y_test, predictions)*100)\n",
        "print(\"*Accuracy score for RF: \", val1, \"\\n\")\n",
        "print(\"*Confusion Matrix for RF: \")\n",
        "print(confusion_matrix(y_test, predictions))\n",
        "print(\"*Classification Report for RF: \")\n",
        "print(classification_report(y_test, predictions))"
      ]
    },
    {
      "cell_type": "code",
      "execution_count": 318,
      "id": "bb2e2623",
      "metadata": {
        "execution": {
          "iopub.execute_input": "2023-01-22T17:34:08.308982Z",
          "iopub.status.busy": "2023-01-22T17:34:08.308124Z",
          "iopub.status.idle": "2023-01-22T17:34:08.333850Z",
          "shell.execute_reply": "2023-01-22T17:34:08.332122Z"
        },
        "papermill": {
          "duration": 0.062082,
          "end_time": "2023-01-22T17:34:08.336682",
          "exception": false,
          "start_time": "2023-01-22T17:34:08.274600",
          "status": "completed"
        },
        "tags": [],
        "colab": {
          "base_uri": "https://localhost:8080/"
        },
        "id": "bb2e2623",
        "outputId": "1e04c6ec-3a7d-454e-c173-b4871c12ea19"
      },
      "outputs": [
        {
          "output_type": "stream",
          "name": "stdout",
          "text": [
            "Accuracy : 0.967741935483871\n"
          ]
        },
        {
          "output_type": "execute_result",
          "data": {
            "text/plain": [
              "(0.9, 0.15)"
            ]
          },
          "metadata": {},
          "execution_count": 318
        }
      ],
      "source": [
        "y_pred_rf = RF.predict(X_test)\n",
        "cm = confusion_matrix(y_test, y_pred_rf)\n",
        "cm\n",
        "rf_result = accuracy_score(y_test,y_pred_rf)\n",
        "print(\"Accuracy :\",rf_result)\n",
        "#The recall is the measure of our model correctly identifying True Positives. Thus\n",
        "recall_rf = cm[0][0]/(cm[0][0] + cm[0][1])\n",
        "#Precision is the ratio between the True Positives and all the Positives\n",
        "precision_rf = cm[0][0]/(cm[0][0]+cm[1][1])\n",
        "recall_rf,precision_rf"
      ]
    },
    {
      "cell_type": "code",
      "source": [
        "from sklearn import metrics\n",
        "\n",
        "cm_display = metrics.ConfusionMatrixDisplay(confusion_matrix = cm, display_labels = [False, True])\n",
        "\n",
        "cm_display.plot()\n",
        "plt.title(\"Confusion Matrix of the Random Forest\")\n",
        "plt.show()"
      ],
      "metadata": {
        "colab": {
          "base_uri": "https://localhost:8080/",
          "height": 472
        },
        "id": "ltM98JwXVaeu",
        "outputId": "0f311747-0d8b-42f9-c5b3-27462feb7a52"
      },
      "id": "ltM98JwXVaeu",
      "execution_count": 319,
      "outputs": [
        {
          "output_type": "display_data",
          "data": {
            "text/plain": [
              "<Figure size 640x480 with 2 Axes>"
            ],
            "image/png": "[encoded data removed]"
          },
          "metadata": {}
        }
      ]
    },
    {
      "cell_type": "markdown",
      "source": [
        "#Decision Tree"
      ],
      "metadata": {
        "id": "BW1OK5uKcloV"
      },
      "id": "BW1OK5uKcloV"
    },
    {
      "cell_type": "code",
      "source": [
        "from sklearn.tree import DecisionTreeClassifier\n",
        "tr = DecisionTreeClassifier(random_state=0)\n",
        "tr.fit(X, y)\n",
        "predictions = tr.predict(X_test)\n",
        "val2 = (accuracy_score(y_test, predictions)*100)\n",
        "print(\"*Accuracy score for Decision Tree: \", val2, \"\\n\")\n",
        "print(\"*Confusion Matrix for Decision Tree: \")\n",
        "print(confusion_matrix(y_test, predictions))\n",
        "print(\"*Classification Report for Decision Tree: \")\n",
        "print(classification_report(y_test, predictions))"
      ],
      "metadata": {
        "id": "wpijvwYdcl7L"
      },
      "id": "wpijvwYdcl7L",
      "execution_count": null,
      "outputs": []
    },
    {
      "cell_type": "code",
      "source": [
        "cm = confusion_matrix(y_test, predictions)\n",
        "cm\n",
        "dc_result = accuracy_score(y_test,predictions)\n",
        "print(\"Accuracy :\",dc_result)\n",
        "recall_dc = cm[0][0]/(cm[0][0] + cm[0][1])\n",
        "precision_dc = cm[0][0]/(cm[0][0]+cm[1][1])\n",
        "recall_dc,precision_dc"
      ],
      "metadata": {
        "id": "HtHu-jhXcpXd"
      },
      "id": "HtHu-jhXcpXd",
      "execution_count": null,
      "outputs": []
    },
    {
      "cell_type": "code",
      "source": [
        "from sklearn import metrics\n",
        "\n",
        "cm_display = metrics.ConfusionMatrixDisplay(confusion_matrix = cm, display_labels = [False, True])\n",
        "\n",
        "cm_display.plot()\n",
        "plt.title(\"Confusion Matrix of the Dession Tree\")\n",
        "plt.show()"
      ],
      "metadata": {
        "id": "33BP_UDUcphU"
      },
      "id": "33BP_UDUcphU",
      "execution_count": null,
      "outputs": []
    },
    {
      "cell_type": "markdown",
      "id": "633cd55f",
      "metadata": {
        "papermill": {
          "duration": 0.033733,
          "end_time": "2023-01-22T17:34:10.078867",
          "exception": false,
          "start_time": "2023-01-22T17:34:10.045134",
          "status": "completed"
        },
        "tags": [],
        "id": "633cd55f"
      },
      "source": [
        "# Logistic Regression"
      ]
    },
    {
      "cell_type": "code",
      "execution_count": 261,
      "id": "2ab78408",
      "metadata": {
        "execution": {
          "iopub.execute_input": "2023-01-22T17:34:10.146672Z",
          "iopub.status.busy": "2023-01-22T17:34:10.146155Z",
          "iopub.status.idle": "2023-01-22T17:34:10.172304Z",
          "shell.execute_reply": "2023-01-22T17:34:10.170911Z"
        },
        "papermill": {
          "duration": 0.062786,
          "end_time": "2023-01-22T17:34:10.175040",
          "exception": false,
          "start_time": "2023-01-22T17:34:10.112254",
          "status": "completed"
        },
        "tags": [],
        "colab": {
          "base_uri": "https://localhost:8080/"
        },
        "id": "2ab78408",
        "outputId": "7030a5cd-2103-4cd5-a43c-788588454aae"
      },
      "outputs": [
        {
          "output_type": "stream",
          "name": "stdout",
          "text": [
            "*Accuracy score for Logistic Regression:  91.93548387096774 \n",
            "\n",
            "*Confusion Matrix for Logistic Regression: \n",
            "[[ 6  4]\n",
            " [ 1 51]]\n",
            "*Classification Report for Logistic Regression: \n",
            "              precision    recall  f1-score   support\n",
            "\n",
            "           0       0.86      0.60      0.71        10\n",
            "           1       0.93      0.98      0.95        52\n",
            "\n",
            "    accuracy                           0.92        62\n",
            "   macro avg       0.89      0.79      0.83        62\n",
            "weighted avg       0.92      0.92      0.91        62\n",
            "\n"
          ]
        }
      ],
      "source": [
        "from sklearn.linear_model import LogisticRegression\n",
        "log = LogisticRegression(random_state=0)\n",
        "log.fit(X, y)\n",
        "predictions = log.predict(X_test)\n",
        "val3 = (accuracy_score(y_test, predictions)*100)\n",
        "print(\"*Accuracy score for Logistic Regression: \", val3, \"\\n\")\n",
        "print(\"*Confusion Matrix for Logistic Regression: \")\n",
        "print(confusion_matrix(y_test, predictions))\n",
        "print(\"*Classification Report for Logistic Regression: \")\n",
        "print(classification_report(y_test, predictions))"
      ]
    },
    {
      "cell_type": "code",
      "execution_count": 297,
      "id": "2f0c924e",
      "metadata": {
        "execution": {
          "iopub.execute_input": "2023-01-22T17:34:10.243010Z",
          "iopub.status.busy": "2023-01-22T17:34:10.242007Z",
          "iopub.status.idle": "2023-01-22T17:34:10.255225Z",
          "shell.execute_reply": "2023-01-22T17:34:10.254080Z"
        },
        "papermill": {
          "duration": 0.049391,
          "end_time": "2023-01-22T17:34:10.257633",
          "exception": false,
          "start_time": "2023-01-22T17:34:10.208242",
          "status": "completed"
        },
        "tags": [],
        "colab": {
          "base_uri": "https://localhost:8080/"
        },
        "id": "2f0c924e",
        "outputId": "67d7712c-19a4-4305-9f0d-3c7c47f0d494"
      },
      "outputs": [
        {
          "output_type": "stream",
          "name": "stdout",
          "text": [
            "Accuracy : 0.9193548387096774\n"
          ]
        },
        {
          "output_type": "execute_result",
          "data": {
            "text/plain": [
              "(0.6, 0.10526315789473684)"
            ]
          },
          "metadata": {},
          "execution_count": 297
        }
      ],
      "source": [
        "y_pred_log = log.predict(X_test)\n",
        "cm = confusion_matrix(y_test, y_pred_log)\n",
        "cm\n",
        "log_result = accuracy_score(y_test,y_pred_log)\n",
        "print(\"Accuracy :\",log_result)\n",
        "recall_log = cm[0][0]/(cm[0][0] + cm[0][1])\n",
        "precision_log = cm[0][0]/(cm[0][0]+cm[1][1])\n",
        "recall_log,precision_log"
      ]
    },
    {
      "cell_type": "code",
      "source": [
        "from sklearn import metrics\n",
        "\n",
        "cm_display = metrics.ConfusionMatrixDisplay(confusion_matrix = cm, display_labels = [False, True])\n",
        "\n",
        "cm_display.plot()\n",
        "plt.title(\"Confusion Matrix of the Logistic Regression Modell\")\n",
        "plt.show()"
      ],
      "metadata": {
        "colab": {
          "base_uri": "https://localhost:8080/",
          "height": 472
        },
        "id": "WEtLeAldTc1S",
        "outputId": "a2862d1b-249c-4e0f-9291-93f0191bdd89"
      },
      "id": "WEtLeAldTc1S",
      "execution_count": 305,
      "outputs": [
        {
          "output_type": "display_data",
          "data": {
            "text/plain": [
              "<Figure size 640x480 with 2 Axes>"
            ],
            "image/png": "[encoded data removed]"
          },
          "metadata": {}
        }
      ]
    },
    {
      "cell_type": "markdown",
      "source": [
        "#Polynomial Features"
      ],
      "metadata": {
        "id": "uc5mbPEjLvMK"
      },
      "id": "uc5mbPEjLvMK"
    },
    {
      "cell_type": "code",
      "source": [
        "import operator\n",
        "\n",
        "from sklearn.preprocessing import PolynomialFeatures\n",
        "from sklearn.linear_model import LinearRegression\n",
        "from sklearn.metrics import mean_squared_error, r2_score\n",
        "poly = PolynomialFeatures(3)\n",
        "\n",
        "x_train_poly = poly.fit_transform(X_train)\n",
        "x_test_poly = poly.fit_transform(X_test)\n",
        "model = LinearRegression()\n",
        "model.fit(x_train_poly, y_train)\n",
        "predictions = model.predict(x_test_poly)\n",
        "val4 = r2_score(y_test,predictions)*100\n",
        "\n",
        "print('Polynomial Score = ', val4)"
      ],
      "metadata": {
        "colab": {
          "base_uri": "https://localhost:8080/"
        },
        "id": "MjjCr_RLLvYm",
        "outputId": "b4a18a9e-3faa-4e58-ec94-8412716c8dbe"
      },
      "id": "MjjCr_RLLvYm",
      "execution_count": 324,
      "outputs": [
        {
          "output_type": "stream",
          "name": "stdout",
          "text": [
            "Polynomial Score =  49.36013782673518\n"
          ]
        }
      ]
    },
    {
      "cell_type": "code",
      "source": [
        "pf_result = val4/100\n",
        "print(\"Accuracy :\", pf_result)\n",
        "recall_pf = cm[0][0]/(cm[0][0] + cm[0][1])\n",
        "precision_pf = cm[0][0]/(cm[0][0]+cm[1][1])\n",
        "recall_pf,precision_pf"
      ],
      "metadata": {
        "colab": {
          "base_uri": "https://localhost:8080/"
        },
        "id": "4b96nYC9dftd",
        "outputId": "1eac3595-8166-4081-e553-026b8eefd214"
      },
      "id": "4b96nYC9dftd",
      "execution_count": 332,
      "outputs": [
        {
          "output_type": "stream",
          "name": "stdout",
          "text": [
            "Accuracy : 0.49360137826735184\n"
          ]
        },
        {
          "output_type": "execute_result",
          "data": {
            "text/plain": [
              "(0.9, 0.15)"
            ]
          },
          "metadata": {},
          "execution_count": 332
        }
      ]
    },
    {
      "cell_type": "markdown",
      "source": [
        "# MLP Classifier"
      ],
      "metadata": {
        "id": "EYxHtpyD7z09"
      },
      "id": "EYxHtpyD7z09"
    },
    {
      "cell_type": "code",
      "source": [
        "from sklearn.neural_network import MLPClassifier\n",
        "mlp = MLPClassifier(random_state=42, max_iter=1000, hidden_layer_sizes=(25,11,7,5,3,)) # Random state number is a random method, 42 is most popular\n",
        "mlp.fit(X_train,y_train)\n",
        "predictions = mlp.predict(X_test)\n",
        "val5 = mlp.score(X_test,y_test)*100\n",
        "print('MLPClassifier Score = ',val5) "
      ],
      "metadata": {
        "colab": {
          "base_uri": "https://localhost:8080/"
        },
        "id": "RTunvtK170EW",
        "outputId": "573a2c6d-5b66-457f-fe2f-2a2bb97c336c"
      },
      "id": "RTunvtK170EW",
      "execution_count": 333,
      "outputs": [
        {
          "output_type": "stream",
          "name": "stdout",
          "text": [
            "MLPClassifier Score =  83.87096774193549\n"
          ]
        }
      ]
    },
    {
      "cell_type": "code",
      "source": [
        "MLP_result = val5/100\n",
        "print(\"Accuracy :\",MLP_result)\n",
        "recall_MLP = cm[0][0]/(cm[0][0] + cm[0][1])\n",
        "precision_MLP = cm[0][0]/(cm[0][0]+cm[1][1])\n",
        "recall_MLP,precision_MLP"
      ],
      "metadata": {
        "colab": {
          "base_uri": "https://localhost:8080/"
        },
        "id": "AHvtN3Q1eJRT",
        "outputId": "39e07f46-3876-4c69-824c-b5eff390aa56"
      },
      "id": "AHvtN3Q1eJRT",
      "execution_count": 334,
      "outputs": [
        {
          "output_type": "stream",
          "name": "stdout",
          "text": [
            "Accuracy : 0.8387096774193549\n"
          ]
        },
        {
          "output_type": "execute_result",
          "data": {
            "text/plain": [
              "(0.9, 0.15)"
            ]
          },
          "metadata": {},
          "execution_count": 334
        }
      ]
    },
    {
      "cell_type": "markdown",
      "id": "ff9ec27d",
      "metadata": {
        "papermill": {
          "duration": 0.032271,
          "end_time": "2023-01-22T17:34:10.559653",
          "exception": false,
          "start_time": "2023-01-22T17:34:10.527382",
          "status": "completed"
        },
        "tags": [],
        "id": "ff9ec27d"
      },
      "source": [
        "# Accuracy Comparison"
      ]
    },
    {
      "cell_type": "code",
      "execution_count": 335,
      "id": "604fd3a3",
      "metadata": {
        "execution": {
          "iopub.execute_input": "2023-01-22T17:34:10.627387Z",
          "iopub.status.busy": "2023-01-22T17:34:10.626257Z",
          "iopub.status.idle": "2023-01-22T17:34:10.633612Z",
          "shell.execute_reply": "2023-01-22T17:34:10.632162Z"
        },
        "papermill": {
          "duration": 0.043928,
          "end_time": "2023-01-22T17:34:10.636109",
          "exception": false,
          "start_time": "2023-01-22T17:34:10.592181",
          "status": "completed"
        },
        "tags": [],
        "colab": {
          "base_uri": "https://localhost:8080/"
        },
        "id": "604fd3a3",
        "outputId": "0fe7164c-b6bf-4acb-d3bc-8c37370f5624"
      },
      "outputs": [
        {
          "output_type": "stream",
          "name": "stdout",
          "text": [
            "[0 1 2 3 4]\n",
            "[96.7741935483871, 91.93548387096774, 98.38709677419355, 49.36013782673518, 83.87096774193549]\n"
          ]
        }
      ],
      "source": [
        "score = [val1,val2,val3,val4,val5]\n",
        "#make variabel for save the result and to show it\n",
        "classifier = ('Random Forest','Decision Tree','Logistic Regression',' Polynomial Features',' MLPClassifier')\n",
        "y_pos = np.arange(len(classifier))\n",
        "print(y_pos)\n",
        "print(score)"
      ]
    },
    {
      "cell_type": "code",
      "execution_count": 336,
      "id": "26ef3620",
      "metadata": {
        "execution": {
          "iopub.execute_input": "2023-01-22T17:34:10.712757Z",
          "iopub.status.busy": "2023-01-22T17:34:10.711715Z",
          "iopub.status.idle": "2023-01-22T17:34:10.869775Z",
          "shell.execute_reply": "2023-01-22T17:34:10.868627Z"
        },
        "papermill": {
          "duration": 0.199696,
          "end_time": "2023-01-22T17:34:10.872451",
          "exception": false,
          "start_time": "2023-01-22T17:34:10.672755",
          "status": "completed"
        },
        "tags": [],
        "colab": {
          "base_uri": "https://localhost:8080/",
          "height": 472
        },
        "id": "26ef3620",
        "outputId": "dee88410-b1ce-4164-b353-b4e3f01b284a"
      },
      "outputs": [
        {
          "output_type": "display_data",
          "data": {
            "text/plain": [
              "<Figure size 640x480 with 1 Axes>"
            ],
            "image/png": "[encoded data removed]"
          },
          "metadata": {}
        }
      ],
      "source": [
        "import matplotlib.pyplot as plt2\n",
        "plt2.barh(y_pos, score, align='center', alpha=0.5,color='blue')\n",
        "plt2.yticks(y_pos, classifier)\n",
        "plt2.xlabel('Score')\n",
        "plt2.title('Accuracy Comparison')\n",
        "plt2.show()\n"
      ]
    },
    {
      "cell_type": "code",
      "execution_count": 337,
      "id": "d1bff370",
      "metadata": {
        "execution": {
          "iopub.execute_input": "2023-01-22T17:34:10.941364Z",
          "iopub.status.busy": "2023-01-22T17:34:10.940667Z",
          "iopub.status.idle": "2023-01-22T17:34:10.947971Z",
          "shell.execute_reply": "2023-01-22T17:34:10.946886Z"
        },
        "papermill": {
          "duration": 0.044332,
          "end_time": "2023-01-22T17:34:10.950278",
          "exception": false,
          "start_time": "2023-01-22T17:34:10.905946",
          "status": "completed"
        },
        "tags": [],
        "id": "d1bff370"
      },
      "outputs": [],
      "source": [
        "results ={'Accuracy': [rf_result*100,dc_result*100,log_result*100,pf_result*100,MLP_result*100],\n",
        " 'Recall':[recall_rf*100,recall_dc*100,recall_log*100,recall_pf*100,recall_MLP*100],\n",
        " 'Precision': [precision_rf*100,precision_dc*100,precision_log*100,precision_pf*100,precision_MLP*100]}\n",
        "index = ['Random Forest','Logistic Regression','Decision Tree','Polynomial Features','MLP Classifier']"
      ]
    },
    {
      "cell_type": "code",
      "execution_count": 338,
      "id": "4d8e4294",
      "metadata": {
        "execution": {
          "iopub.execute_input": "2023-01-22T17:34:11.019595Z",
          "iopub.status.busy": "2023-01-22T17:34:11.019165Z",
          "iopub.status.idle": "2023-01-22T17:34:11.024102Z",
          "shell.execute_reply": "2023-01-22T17:34:11.023344Z"
        },
        "papermill": {
          "duration": 0.041917,
          "end_time": "2023-01-22T17:34:11.026148",
          "exception": false,
          "start_time": "2023-01-22T17:34:10.984231",
          "status": "completed"
        },
        "tags": [],
        "id": "4d8e4294"
      },
      "outputs": [],
      "source": [
        "results =pd.DataFrame(results,index=index)"
      ]
    },
    {
      "cell_type": "code",
      "execution_count": 339,
      "id": "5e972c9e",
      "metadata": {
        "execution": {
          "iopub.execute_input": "2023-01-22T17:34:11.095471Z",
          "iopub.status.busy": "2023-01-22T17:34:11.094706Z",
          "iopub.status.idle": "2023-01-22T17:34:11.648120Z",
          "shell.execute_reply": "2023-01-22T17:34:11.647283Z"
        },
        "papermill": {
          "duration": 0.590945,
          "end_time": "2023-01-22T17:34:11.650504",
          "exception": false,
          "start_time": "2023-01-22T17:34:11.059559",
          "status": "completed"
        },
        "tags": [],
        "colab": {
          "base_uri": "https://localhost:8080/",
          "height": 670
        },
        "id": "5e972c9e",
        "outputId": "b276b125-afc7-4ed7-e984-d8a718e0a4ba"
      },
      "outputs": [
        {
          "output_type": "display_data",
          "data": {
            "text/plain": [
              "<Figure size 1500x600 with 1 Axes>"
            ],
            "image/png": "[encoded data removed]"
          },
          "metadata": {}
        }
      ],
      "source": [
        "fig =results.plot(kind='bar',title='Comaprison of models',figsize =(15,6)).get_figure()\n",
        "fig.savefig('acc.png')"
      ]
    }
  ],
  "metadata": {
    "kernelspec": {
      "display_name": "Python 3",
      "language": "python",
      "name": "python3"
    },
    "language_info": {
      "codemirror_mode": {
        "name": "ipython",
        "version": 3
      },
      "file_extension": ".py",
      "mimetype": "text/x-python",
      "name": "python",
      "nbconvert_exporter": "python",
      "pygments_lexer": "ipython3",
      "version": "3.9.7"
    },
    "papermill": {
      "default_parameters": {},
      "duration": 23.817737,
      "end_time": "2023-01-22T17:34:12.810699",
      "environment_variables": {},
      "exception": null,
      "input_path": "__notebook__.ipynb",
      "output_path": "__notebook__.ipynb",
      "parameters": {},
      "start_time": "2023-01-22T17:33:48.992962",
      "version": "2.3.4"
    },
    "colab": {
      "provenance": []
    }
  },
  "nbformat": 4,
  "nbformat_minor": 5
}